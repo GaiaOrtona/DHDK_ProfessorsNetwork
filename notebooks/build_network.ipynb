{
 "cells": [
  {
   "cell_type": "code",
   "execution_count": 7,
   "metadata": {},
   "outputs": [],
   "source": [
    "import json\n",
    "import pandas as pd\n",
    "import numpy as np\n",
    "import networkx as nx\n",
    "from pprint import pprint\n",
    "import matplotlib.pyplot as plt\n",
    "from itertools import combinations"
   ]
  },
  {
   "cell_type": "code",
   "execution_count": 14,
   "metadata": {},
   "outputs": [],
   "source": [
    "target = \"dhdk\"\n",
    "authors_json = '../data/{0}/{0}_authors.json'.format(target)\n",
    "publications_json = '../data/{0}/{0}_publications.json'.format(target)"
   ]
  },
  {
   "cell_type": "code",
   "execution_count": 18,
   "metadata": {},
   "outputs": [],
   "source": [
    "with open(authors_json, 'r') as f:\n",
    "    authors = json.load(f)\n",
    "\n",
    "with open(publications_json, 'r') as f:\n",
    "    publications = json.load(f)\n",
    "\n",
    "G = nx.Graph()"
   ]
  },
  {
   "cell_type": "markdown",
   "metadata": {},
   "source": [
    "### Add the authors as nodes"
   ]
  },
  {
   "cell_type": "code",
   "execution_count": 22,
   "metadata": {},
   "outputs": [
    {
     "name": "stdout",
     "output_type": "stream",
     "text": [
      "marilena.daquino2\n",
      "silvio.peroni\n",
      "paola.italia\n",
      "fabio.vitali\n",
      "daniele.donati\n",
      "francesca.tomasi\n",
      "giorgio.spedicato\n",
      "annafelicia.zuffran2\n",
      "ilaria.bartolini\n",
      "michela.milano\n",
      "aldo.gangemi\n",
      "monica.palmirani\n",
      "sofia.pescarin\n",
      "fabio.tamburini\n",
      "giulio.iovine2\n",
      "luca.trapin\n",
      "saverio.giallorenzo2\n",
      "simone.ferriani\n",
      "ekaterina.baskakova2\n"
     ]
    }
   ],
   "source": [
    "for prof in publications:\n",
    "    for link in publications[prof]['Publications']:\n",
    "        for author, coauthor in combinations(publications[prof]['Publications'][link]['internalAuthor'], 2):\n",
    "            if G.has_edge(authors[author]['Nome completo'], authors[coauthor]['Nome completo']):\n",
    "                G[authors[author]['Nome completo']][authors[coauthor]['Nome completo']]['weight'] += 1\n",
    "                G[authors[author]['Nome completo']][authors[coauthor]['Nome completo']]['publications'].append(link)\n",
    "            else:\n",
    "                G.add_edge(authors[author]['Nome completo'], authors[coauthor]['Nome completo'], weight=1, publications=[link])"
   ]
  },
  {
   "cell_type": "markdown",
   "metadata": {},
   "source": [
    "### Add the publications as edges"
   ]
  },
  {
   "cell_type": "code",
   "execution_count": 16,
   "metadata": {},
   "outputs": [
    {
     "data": {
      "text/plain": [
       "dict_keys(['marilena.daquino2', 'silvio.peroni', 'paola.italia', 'fabio.vitali', 'daniele.donati', 'francesca.tomasi', 'giorgio.spedicato', 'annafelicia.zuffran2', 'ilaria.bartolini', 'michela.milano', 'aldo.gangemi', 'monica.palmirani', 'sofia.pescarin', 'fabio.tamburini', 'giulio.iovine2', 'luca.trapin', 'saverio.giallorenzo2', 'simone.ferriani', 'ekaterina.baskakova2'])"
      ]
     },
     "execution_count": 16,
     "metadata": {},
     "output_type": "execute_result"
    }
   ],
   "source": [
    "publications.keys()"
   ]
  },
  {
   "cell_type": "markdown",
   "metadata": {},
   "source": [
    "### Visualize the network"
   ]
  },
  {
   "cell_type": "code",
   "execution_count": 20,
   "metadata": {},
   "outputs": [
    {
     "data": {
      "image/png": "[encoded data removed]",
      "text/plain": [
       "<Figure size 1000x1000 with 1 Axes>"
      ]
     },
     "metadata": {},
     "output_type": "display_data"
    }
   ],
   "source": [
    "color_palette = {\n",
    "    'DIPARTIMENTO DI FILOLOGIA CLASSICA E ITALIANISTICA': 'gold',\n",
    "    'DIPARTIMENTO DI INFORMATICA - SCIENZA E INGEGNERIA': 'green',\n",
    "}\n",
    "\n",
    "\n",
    "bbox_props = {\n",
    "    'boxstyle': 'round',\n",
    "    'facecolor': 'white',\n",
    "    'edgecolor': 'black',\n",
    "    'linewidth': 1,\n",
    "    'pad': 0.5,\n",
    "    'alpha': 1,\n",
    "}\n",
    "\n",
    "pos = nx.spring_layout(G, iterations=30)\n",
    "plt.figure(figsize=(10,10))\n",
    "nx.draw(G, \n",
    "        pos,\n",
    "        node_color=[color_palette[node[1]['affiliation']] if color_palette.get(node[1]['affiliation']) else 'blue' for node in G.nodes(data=True)], \n",
    "        node_size = [800 if node[0] in list else 10 for node in G.nodes(data=True)],)\n",
    "for node, data in G.nodes(data=True):\n",
    "    if node in list:\n",
    "        nx.draw_networkx_labels(G, pos, labels={node: node}, font_size=12, font_color='black', verticalalignment='top', bbox=bbox_props)\n",
    "    else:\n",
    "        nx.draw_networkx_labels(G, pos, labels={node: node}, font_size=5, font_color='black', verticalalignment='top')\n",
    "\n",
    "plt.show()"
   ]
  },
  {
   "cell_type": "markdown",
   "metadata": {},
   "source": [
    "### Write the network"
   ]
  },
  {
   "cell_type": "code",
   "execution_count": null,
   "metadata": {},
   "outputs": [],
   "source": [
    "nx.write_gml(G, '../data/{0}/{0}_network.gml'.format(target), stringizer=lambda x: str(x))"
   ]
  }
 ],
 "metadata": {
  "kernelspec": {
   "display_name": "Python 3",
   "language": "python",
   "name": "python3"
  },
  "language_info": {
   "codemirror_mode": {
    "name": "ipython",
    "version": 3
   },
   "file_extension": ".py",
   "mimetype": "text/x-python",
   "name": "python",
   "nbconvert_exporter": "python",
   "pygments_lexer": "ipython3",
   "version": "3.11.6"
  }
 },
 "nbformat": 4,
 "nbformat_minor": 2
}
