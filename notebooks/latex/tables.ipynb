{
 "cells": [
  {
   "cell_type": "code",
   "execution_count": 7,
   "metadata": {},
   "outputs": [],
   "source": [
    "import networkx as nx\n",
    "import pandas as pd\n",
    "pd.set_option('max_colwidth', 1000)"
   ]
  },
  {
   "cell_type": "code",
   "execution_count": 9,
   "metadata": {},
   "outputs": [
    {
     "name": "stdout",
     "output_type": "stream",
     "text": [
      "\\begin{table}\n",
      "\\caption{Number of nodes and edges for each graph.}\n",
      "\\label{tab:graph_stats}\n",
      "\\begin{tabular}{lrr}\n",
      "\\toprule\n",
      "Graph & Number of Nodes & Number of Edges \\\\\n",
      "\\midrule\n",
      "DHDK & 398 & 1889 \\\\\n",
      "CS & 493 & 1999 \\\\\n",
      "IT & 304 & 1523 \\\\\n",
      "\\bottomrule\n",
      "\\end{tabular}\n",
      "\\end{table}\n",
      "\n"
     ]
    }
   ],
   "source": [
    "G1 = nx.read_gml(\"../../data/dhdk/dhdk_coauthorship_network.gml\")\n",
    "G2 = nx.read_gml(\"../../data/cs/cs_coauthorship_network.gml\")\n",
    "G3 = nx.read_gml(\"../../data/it/it_coauthorship_network.gml\")\n",
    "\n",
    "data = [\n",
    "    (\"DHDK\", G1.number_of_nodes(), G1.number_of_edges()),\n",
    "    (\"CS\", G2.number_of_nodes(), G2.number_of_edges()),\n",
    "    (\"IT\", G3.number_of_nodes(), G3.number_of_edges()),\n",
    "]\n",
    "\n",
    "df = pd.DataFrame(data, columns=[\"Graph\", \"Number of Nodes\", \"Number of Edges\"])\n",
    "\n",
    "latex_table = df.to_latex(index=False, caption=\"Number of nodes and edges for each graph.\", label=\"tab:graph_stats\")\n",
    "print(latex_table)"
   ]
  },
  {
   "cell_type": "code",
   "execution_count": null,
   "metadata": {},
   "outputs": [],
   "source": []
  }
 ],
 "metadata": {
  "kernelspec": {
   "display_name": "Python 3",
   "language": "python",
   "name": "python3"
  },
  "language_info": {
   "codemirror_mode": {
    "name": "ipython",
    "version": 3
   },
   "file_extension": ".py",
   "mimetype": "text/x-python",
   "name": "python",
   "nbconvert_exporter": "python",
   "pygments_lexer": "ipython3",
   "version": "3.11.6"
  }
 },
 "nbformat": 4,
 "nbformat_minor": 2
}
