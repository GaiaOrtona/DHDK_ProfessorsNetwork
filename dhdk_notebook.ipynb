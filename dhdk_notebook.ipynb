{
 "cells": [
  {
   "cell_type": "markdown",
   "metadata": {},
   "source": [
    "First step: import the libraries"
   ]
  },
  {
   "cell_type": "code",
   "execution_count": 35,
   "metadata": {},
   "outputs": [],
   "source": [
    "import json\n",
    "import pandas as pd\n",
    "import numpy as np\n",
    "import networkx as nx\n",
    "from pprint import pprint\n",
    "import matplotlib.pyplot as plt\n",
    "from itertools import combinations"
   ]
  },
  {
   "cell_type": "markdown",
   "metadata": {},
   "source": [
    "Second step: path to the graph stored in gml format"
   ]
  },
  {
   "cell_type": "code",
   "execution_count": 42,
   "metadata": {},
   "outputs": [],
   "source": [
    "G = nx.read_gml(\"data/dhdk/dhdk_coauthorship_network.gml\")"
   ]
  },
  {
   "cell_type": "markdown",
   "metadata": {},
   "source": [
    "Third step: apply measures"
   ]
  },
  {
   "cell_type": "code",
   "execution_count": 69,
   "metadata": {},
   "outputs": [
    {
     "data": {
      "text/html": [
       "<div>\n",
       "<style scoped>\n",
       "    .dataframe tbody tr th:only-of-type {\n",
       "        vertical-align: middle;\n",
       "    }\n",
       "\n",
       "    .dataframe tbody tr th {\n",
       "        vertical-align: top;\n",
       "    }\n",
       "\n",
       "    .dataframe thead th {\n",
       "        text-align: right;\n",
       "    }\n",
       "</style>\n",
       "<table border=\"1\" class=\"dataframe\">\n",
       "  <thead>\n",
       "    <tr style=\"text-align: right;\">\n",
       "      <th></th>\n",
       "      <th>BetweennessCentrality</th>\n",
       "    </tr>\n",
       "  </thead>\n",
       "  <tbody>\n",
       "    <tr>\n",
       "      <th>TOMASI, FRANCESCA</th>\n",
       "      <td>0.365687</td>\n",
       "    </tr>\n",
       "    <tr>\n",
       "      <th>BARTOLINI, ILARIA</th>\n",
       "      <td>0.310429</td>\n",
       "    </tr>\n",
       "    <tr>\n",
       "      <th>MILANO, MICHELA</th>\n",
       "      <td>0.157211</td>\n",
       "    </tr>\n",
       "    <tr>\n",
       "      <th>DUCA, SILVIA</th>\n",
       "      <td>0.138348</td>\n",
       "    </tr>\n",
       "    <tr>\n",
       "      <th>PRESUTTI, VALENTINA</th>\n",
       "      <td>0.123821</td>\n",
       "    </tr>\n",
       "    <tr>\n",
       "      <th>...</th>\n",
       "      <td>...</td>\n",
       "    </tr>\n",
       "    <tr>\n",
       "      <th>COLUCCI, MARIACHIARA</th>\n",
       "      <td>0.000000</td>\n",
       "    </tr>\n",
       "    <tr>\n",
       "      <th>MAMBELLI, FRANCESCA</th>\n",
       "      <td>0.000000</td>\n",
       "    </tr>\n",
       "    <tr>\n",
       "      <th>DE SANTIS, CRISTIANA</th>\n",
       "      <td>0.000000</td>\n",
       "    </tr>\n",
       "    <tr>\n",
       "      <th>LONGO, DANILA</th>\n",
       "      <td>0.000000</td>\n",
       "    </tr>\n",
       "    <tr>\n",
       "      <th>DE VIVO, MANUELA</th>\n",
       "      <td>0.000000</td>\n",
       "    </tr>\n",
       "  </tbody>\n",
       "</table>\n",
       "<p>398 rows × 1 columns</p>\n",
       "</div>"
      ],
      "text/plain": [
       "                      BetweennessCentrality\n",
       "TOMASI, FRANCESCA                  0.365687\n",
       "BARTOLINI, ILARIA                  0.310429\n",
       "MILANO, MICHELA                    0.157211\n",
       "DUCA, SILVIA                       0.138348\n",
       "PRESUTTI, VALENTINA                0.123821\n",
       "...                                     ...\n",
       "COLUCCI, MARIACHIARA               0.000000\n",
       "MAMBELLI, FRANCESCA                0.000000\n",
       "DE SANTIS, CRISTIANA               0.000000\n",
       "LONGO, DANILA                      0.000000\n",
       "DE VIVO, MANUELA                   0.000000\n",
       "\n",
       "[398 rows x 1 columns]"
      ]
     },
     "execution_count": 69,
     "metadata": {},
     "output_type": "execute_result"
    }
   ],
   "source": [
    "\n",
    "betweenness_centrality = nx.betweenness_centrality(G, weight=\"weight\")\n",
    "bc_data = pd.DataFrame.from_dict(betweenness_centrality, \n",
    "                                columns=[\"BetweennessCentrality\"], \n",
    "                                orient=\"index\")\n",
    "bc_data.sort_values(by=[\"BetweennessCentrality\"], ascending=False)"
   ]
  },
  {
   "cell_type": "markdown",
   "metadata": {},
   "source": [
    "Betweenness Centrality:\n",
    "High values suggest that the node plays a critical role in connecting other nodes in the network:\n",
    "\"TOMASI, FRANCESCA\" has the highest betweenness centrality, indicating that this individual's presence is crucial for maintaining connectivity between other nodes.\n"
   ]
  },
  {
   "cell_type": "code",
   "execution_count": 49,
   "metadata": {},
   "outputs": [
    {
     "data": {
      "text/html": [
       "<div>\n",
       "<style scoped>\n",
       "    .dataframe tbody tr th:only-of-type {\n",
       "        vertical-align: middle;\n",
       "    }\n",
       "\n",
       "    .dataframe tbody tr th {\n",
       "        vertical-align: top;\n",
       "    }\n",
       "\n",
       "    .dataframe thead th {\n",
       "        text-align: right;\n",
       "    }\n",
       "</style>\n",
       "<table border=\"1\" class=\"dataframe\">\n",
       "  <thead>\n",
       "    <tr style=\"text-align: right;\">\n",
       "      <th></th>\n",
       "      <th>DegreeCentrality</th>\n",
       "    </tr>\n",
       "  </thead>\n",
       "  <tbody>\n",
       "    <tr>\n",
       "      <th>TOMASI, FRANCESCA</th>\n",
       "      <td>0.214106</td>\n",
       "    </tr>\n",
       "    <tr>\n",
       "      <th>PERONI, SILVIO</th>\n",
       "      <td>0.188917</td>\n",
       "    </tr>\n",
       "    <tr>\n",
       "      <th>MILANO, MICHELA</th>\n",
       "      <td>0.166247</td>\n",
       "    </tr>\n",
       "    <tr>\n",
       "      <th>VITALI, FABIO</th>\n",
       "      <td>0.138539</td>\n",
       "    </tr>\n",
       "    <tr>\n",
       "      <th>BARTOLINI, ILARIA</th>\n",
       "      <td>0.123426</td>\n",
       "    </tr>\n",
       "    <tr>\n",
       "      <th>...</th>\n",
       "      <td>...</td>\n",
       "    </tr>\n",
       "    <tr>\n",
       "      <th>OMICINI, ANDREA</th>\n",
       "      <td>0.002519</td>\n",
       "    </tr>\n",
       "    <tr>\n",
       "      <th>DI TELLA, ALESSANDRA</th>\n",
       "      <td>0.002519</td>\n",
       "    </tr>\n",
       "    <tr>\n",
       "      <th>ROSSI, FEDERICA</th>\n",
       "      <td>0.002519</td>\n",
       "    </tr>\n",
       "    <tr>\n",
       "      <th>GODART, FREDERIC</th>\n",
       "      <td>0.002519</td>\n",
       "    </tr>\n",
       "    <tr>\n",
       "      <th>DE VIVO, MANUELA</th>\n",
       "      <td>0.002519</td>\n",
       "    </tr>\n",
       "  </tbody>\n",
       "</table>\n",
       "<p>398 rows × 1 columns</p>\n",
       "</div>"
      ],
      "text/plain": [
       "                      DegreeCentrality\n",
       "TOMASI, FRANCESCA             0.214106\n",
       "PERONI, SILVIO                0.188917\n",
       "MILANO, MICHELA               0.166247\n",
       "VITALI, FABIO                 0.138539\n",
       "BARTOLINI, ILARIA             0.123426\n",
       "...                                ...\n",
       "OMICINI, ANDREA               0.002519\n",
       "DI TELLA, ALESSANDRA          0.002519\n",
       "ROSSI, FEDERICA               0.002519\n",
       "GODART, FREDERIC              0.002519\n",
       "DE VIVO, MANUELA              0.002519\n",
       "\n",
       "[398 rows x 1 columns]"
      ]
     },
     "execution_count": 49,
     "metadata": {},
     "output_type": "execute_result"
    }
   ],
   "source": [
    "degree_centrality = nx.degree_centrality(G)\n",
    "dc_data = pd.DataFrame.from_dict(degree_centrality, \n",
    "                                columns=[\"DegreeCentrality\"], \n",
    "                                orient=\"index\")\n",
    "dc_data.sort_values(by=[\"DegreeCentrality\"], ascending=False)"
   ]
  },
  {
   "cell_type": "markdown",
   "metadata": {},
   "source": [
    "Degree Centrality:\n",
    "Reflects the number of connections a node has.\n",
    "\"TOMASI, FRANCESCA\" has the highest degree centrality, implying that this person has the most direct connections."
   ]
  },
  {
   "cell_type": "code",
   "execution_count": 72,
   "metadata": {},
   "outputs": [
    {
     "data": {
      "text/html": [
       "<div>\n",
       "<style scoped>\n",
       "    .dataframe tbody tr th:only-of-type {\n",
       "        vertical-align: middle;\n",
       "    }\n",
       "\n",
       "    .dataframe tbody tr th {\n",
       "        vertical-align: top;\n",
       "    }\n",
       "\n",
       "    .dataframe thead th {\n",
       "        text-align: right;\n",
       "    }\n",
       "</style>\n",
       "<table border=\"1\" class=\"dataframe\">\n",
       "  <thead>\n",
       "    <tr style=\"text-align: right;\">\n",
       "      <th></th>\n",
       "      <th>ClosenessCentrality</th>\n",
       "    </tr>\n",
       "  </thead>\n",
       "  <tbody>\n",
       "    <tr>\n",
       "      <th>TOMASI, FRANCESCA</th>\n",
       "      <td>0.184239</td>\n",
       "    </tr>\n",
       "    <tr>\n",
       "      <th>DUCA, SILVIA</th>\n",
       "      <td>0.172527</td>\n",
       "    </tr>\n",
       "    <tr>\n",
       "      <th>PRESUTTI, VALENTINA</th>\n",
       "      <td>0.168067</td>\n",
       "    </tr>\n",
       "    <tr>\n",
       "      <th>VIALE, MATTEO</th>\n",
       "      <td>0.165659</td>\n",
       "    </tr>\n",
       "    <tr>\n",
       "      <th>SOLMI, RICCARDO</th>\n",
       "      <td>0.165133</td>\n",
       "    </tr>\n",
       "    <tr>\n",
       "      <th>...</th>\n",
       "      <td>...</td>\n",
       "    </tr>\n",
       "    <tr>\n",
       "      <th>LEGNANI ANNICHINI, ALESSIA</th>\n",
       "      <td>0.004030</td>\n",
       "    </tr>\n",
       "    <tr>\n",
       "      <th>TRAPIN, LUCA</th>\n",
       "      <td>0.002519</td>\n",
       "    </tr>\n",
       "    <tr>\n",
       "      <th>LILLO, FABRIZIO</th>\n",
       "      <td>0.002519</td>\n",
       "    </tr>\n",
       "    <tr>\n",
       "      <th>CAPUCCINO, CARLOTTA</th>\n",
       "      <td>0.001259</td>\n",
       "    </tr>\n",
       "    <tr>\n",
       "      <th>IOVINE, GIULIO</th>\n",
       "      <td>0.001259</td>\n",
       "    </tr>\n",
       "  </tbody>\n",
       "</table>\n",
       "<p>398 rows × 1 columns</p>\n",
       "</div>"
      ],
      "text/plain": [
       "                            ClosenessCentrality\n",
       "TOMASI, FRANCESCA                      0.184239\n",
       "DUCA, SILVIA                           0.172527\n",
       "PRESUTTI, VALENTINA                    0.168067\n",
       "VIALE, MATTEO                          0.165659\n",
       "SOLMI, RICCARDO                        0.165133\n",
       "...                                         ...\n",
       "LEGNANI ANNICHINI, ALESSIA             0.004030\n",
       "TRAPIN, LUCA                           0.002519\n",
       "LILLO, FABRIZIO                        0.002519\n",
       "CAPUCCINO, CARLOTTA                    0.001259\n",
       "IOVINE, GIULIO                         0.001259\n",
       "\n",
       "[398 rows x 1 columns]"
      ]
     },
     "execution_count": 72,
     "metadata": {},
     "output_type": "execute_result"
    }
   ],
   "source": [
    "closeness_centrality = nx.closeness_centrality(G, distance=\"weight\")\n",
    "cc_data = pd.DataFrame.from_dict(closeness_centrality, \n",
    "                                columns=[\"ClosenessCentrality\"], \n",
    "                                orient=\"index\")\n",
    "cc_data.sort_values(by=[\"ClosenessCentrality\"], ascending=False)"
   ]
  },
  {
   "cell_type": "markdown",
   "metadata": {},
   "source": [
    "Without Edge Weights:\n",
    "TOMASI, FRANCESCA (0.420055): This node has the highest closeness centrality. It is, on average, closer to other nodes in the network compared to the rest.\n",
    "\n",
    "PERONI, SILVIO (0.394565): The second-highest closeness centrality. Similar interpretation to TOMASI, FRANCESCA.\n",
    "\n",
    "Low Closeness Centralities: Nodes like PICCININI, ALESSANDRO, IOVINE, GIULIO, CAPUCCINO, CARLOTTA, LILLO, FABRIZIO, TRAPIN, LUCA have relatively low closeness centrality. These nodes are less central in terms of proximity to other nodes.\n",
    "\n",
    "With Edge Weights:\n",
    "TOMASI, FRANCESCA (0.184239): Despite having the highest closeness centrality without weights, its closeness decreases when considering edge weights. The weights indicate that the paths to other nodes may be longer or have higher costs.\n",
    "\n",
    "DUCA, SILVIA (0.172527): DUCA, SILVIA becomes more central when edge weights are considered. It suggests that, with weights, DUCA, SILVIA is closer to other nodes.\n",
    "\n",
    "PRESUTTI, VALENTINA (0.168067): Similar to DUCA, SILVIA, PRESUTTI, VALENTINA becomes more central when considering edge weights.\n",
    "\n",
    "Why it Changes:\n",
    "Edge Weights Influence Path Selection:\n",
    "\n",
    "With edge weights, longer paths may be preferred if they have lower weights. This can lead to different paths being selected as the \"shortest,\" altering closeness centrality.\n",
    "Higher Edge Weights Increase Distance:\n",
    "\n",
    "Higher edge weights effectively increase the distance between nodes. If a path has a high weight, it contributes more to the overall distance in the weighted network.\n",
    "Connection Strength Matters:\n",
    "\n",
    "Edge weights capture the strength or importance of connections. Nodes with strong connections (lower weights) may have higher closeness centrality in the weighted network.\n",
    "Impact on Spread of Information:\n",
    "\n",
    "Closeness centrality measures how quickly information can spread. If weighted edges represent communication strength, the weighted closeness reflects how quickly information can traverse strong connections.\n",
    "In essence, the inclusion of edge weights adjusts the notion of \"closeness\" to consider the strength or cost associated with traversing edges. This adjustment can lead to changes in the ranking of nodes' closeness centrality."
   ]
  },
  {
   "cell_type": "code",
   "execution_count": 75,
   "metadata": {},
   "outputs": [
    {
     "data": {
      "text/html": [
       "<div>\n",
       "<style scoped>\n",
       "    .dataframe tbody tr th:only-of-type {\n",
       "        vertical-align: middle;\n",
       "    }\n",
       "\n",
       "    .dataframe tbody tr th {\n",
       "        vertical-align: top;\n",
       "    }\n",
       "\n",
       "    .dataframe thead th {\n",
       "        text-align: right;\n",
       "    }\n",
       "</style>\n",
       "<table border=\"1\" class=\"dataframe\">\n",
       "  <thead>\n",
       "    <tr style=\"text-align: right;\">\n",
       "      <th></th>\n",
       "      <th>EigenvectorCentrality</th>\n",
       "    </tr>\n",
       "  </thead>\n",
       "  <tbody>\n",
       "    <tr>\n",
       "      <th>PERONI, SILVIO</th>\n",
       "      <td>5.393762e-01</td>\n",
       "    </tr>\n",
       "    <tr>\n",
       "      <th>VITALI, FABIO</th>\n",
       "      <td>5.310575e-01</td>\n",
       "    </tr>\n",
       "    <tr>\n",
       "      <th>DI IORIO, ANGELO</th>\n",
       "      <td>3.102252e-01</td>\n",
       "    </tr>\n",
       "    <tr>\n",
       "      <th>TOMASI, FRANCESCA</th>\n",
       "      <td>2.799114e-01</td>\n",
       "    </tr>\n",
       "    <tr>\n",
       "      <th>GANGEMI, ALDO</th>\n",
       "      <td>2.111199e-01</td>\n",
       "    </tr>\n",
       "    <tr>\n",
       "      <th>...</th>\n",
       "      <td>...</td>\n",
       "    </tr>\n",
       "    <tr>\n",
       "      <th>BISI, SILVIA</th>\n",
       "      <td>1.278039e-30</td>\n",
       "    </tr>\n",
       "    <tr>\n",
       "      <th>CAPUCCINO, CARLOTTA</th>\n",
       "      <td>4.771634e-34</td>\n",
       "    </tr>\n",
       "    <tr>\n",
       "      <th>IOVINE, GIULIO</th>\n",
       "      <td>4.771634e-34</td>\n",
       "    </tr>\n",
       "    <tr>\n",
       "      <th>TRAPIN, LUCA</th>\n",
       "      <td>7.264521e-37</td>\n",
       "    </tr>\n",
       "    <tr>\n",
       "      <th>LILLO, FABRIZIO</th>\n",
       "      <td>7.264521e-37</td>\n",
       "    </tr>\n",
       "  </tbody>\n",
       "</table>\n",
       "<p>398 rows × 1 columns</p>\n",
       "</div>"
      ],
      "text/plain": [
       "                     EigenvectorCentrality\n",
       "PERONI, SILVIO                5.393762e-01\n",
       "VITALI, FABIO                 5.310575e-01\n",
       "DI IORIO, ANGELO              3.102252e-01\n",
       "TOMASI, FRANCESCA             2.799114e-01\n",
       "GANGEMI, ALDO                 2.111199e-01\n",
       "...                                    ...\n",
       "BISI, SILVIA                  1.278039e-30\n",
       "CAPUCCINO, CARLOTTA           4.771634e-34\n",
       "IOVINE, GIULIO                4.771634e-34\n",
       "TRAPIN, LUCA                  7.264521e-37\n",
       "LILLO, FABRIZIO               7.264521e-37\n",
       "\n",
       "[398 rows x 1 columns]"
      ]
     },
     "execution_count": 75,
     "metadata": {},
     "output_type": "execute_result"
    }
   ],
   "source": [
    "eigenvector_centrality = nx.eigenvector_centrality(G, weight=\"weight\")\n",
    "ec_data = pd.DataFrame.from_dict(eigenvector_centrality, \n",
    "                                columns=[\"EigenvectorCentrality\"], \n",
    "                                orient=\"index\")\n",
    "ec_data.sort_values(by=[\"EigenvectorCentrality\"], ascending=False)"
   ]
  },
  {
   "cell_type": "markdown",
   "metadata": {},
   "source": [
    "Eigenvector Centrality:\n",
    "Considers both the number and the importance of a node's neighbors.\n",
    "\"TOMASI, FRANCESCA\" has the highest eigenvector centrality, implying that the people connected to this person are themselves well-connected.\n",
    "\n",
    "\n",
    "Why it Changes:\n",
    "Edge Weights Influence Strength:\n",
    "\n",
    "Nodes with strong connections (lower weights) contribute more to the eigenvector centrality of their neighbors. The weights influence the flow of influence through the network.\n",
    "Weighted Paths Matter:\n",
    "\n",
    "Paths with lower weights contribute more to the eigenvector centrality. If a node is connected to nodes with strong connections, its centrality increases.\n",
    "Higher Eigenvector Centrality for Some Nodes:\n",
    "\n",
    "Nodes like PERONI, SILVIO, VITALI, FABIO, and others have higher eigenvector centrality with weights. These nodes likely have strong connections to other central nodes.\n",
    "Decreased Centrality for Others:\n",
    "\n",
    "Nodes like PICCININI, ALESSANDRO, CAPUCCINO, CARLOTTA, IOVINE, GIULIO, TRAPIN, LUCA, LILLO, FABRIZIO have extremely low eigenvector centrality values with or without weights. These nodes might have weaker or less influential connections.\n",
    "Interpretation:\n",
    "Eigenvector centrality with weights reflects not only the structure of the network but also the strength of connections.\n",
    "Nodes with higher eigenvector centrality in the weighted network are influential not just due to their connectivity but also because of the strength of their connections."
   ]
  },
  {
   "cell_type": "code",
   "execution_count": 76,
   "metadata": {},
   "outputs": [
    {
     "data": {
      "text/html": [
       "<div>\n",
       "<style scoped>\n",
       "    .dataframe tbody tr th:only-of-type {\n",
       "        vertical-align: middle;\n",
       "    }\n",
       "\n",
       "    .dataframe tbody tr th {\n",
       "        vertical-align: top;\n",
       "    }\n",
       "\n",
       "    .dataframe thead th {\n",
       "        text-align: right;\n",
       "    }\n",
       "</style>\n",
       "<table border=\"1\" class=\"dataframe\">\n",
       "  <thead>\n",
       "    <tr style=\"text-align: right;\">\n",
       "      <th></th>\n",
       "      <th>Clustering</th>\n",
       "    </tr>\n",
       "  </thead>\n",
       "  <tbody>\n",
       "    <tr>\n",
       "      <th>MAMBELLI, FRANCESCA</th>\n",
       "      <td>0.075970</td>\n",
       "    </tr>\n",
       "    <tr>\n",
       "      <th>SCOPECE, FIORA</th>\n",
       "      <td>0.074737</td>\n",
       "    </tr>\n",
       "    <tr>\n",
       "      <th>DIONIGI, IVANO</th>\n",
       "      <td>0.061562</td>\n",
       "    </tr>\n",
       "    <tr>\n",
       "      <th>CITTI, FRANCESCO</th>\n",
       "      <td>0.060264</td>\n",
       "    </tr>\n",
       "    <tr>\n",
       "      <th>ZIOSI, ANTONIO</th>\n",
       "      <td>0.059982</td>\n",
       "    </tr>\n",
       "    <tr>\n",
       "      <th>...</th>\n",
       "      <td>...</td>\n",
       "    </tr>\n",
       "    <tr>\n",
       "      <th>SOTTARA, DAVIDE</th>\n",
       "      <td>0.000000</td>\n",
       "    </tr>\n",
       "    <tr>\n",
       "      <th>D'ANGELO, GABRIELE</th>\n",
       "      <td>0.000000</td>\n",
       "    </tr>\n",
       "    <tr>\n",
       "      <th>CAPUCCINO, CARLOTTA</th>\n",
       "      <td>0.000000</td>\n",
       "    </tr>\n",
       "    <tr>\n",
       "      <th>PERRETTI, FABRIZIO</th>\n",
       "      <td>0.000000</td>\n",
       "    </tr>\n",
       "    <tr>\n",
       "      <th>DE VIVO, MANUELA</th>\n",
       "      <td>0.000000</td>\n",
       "    </tr>\n",
       "  </tbody>\n",
       "</table>\n",
       "<p>398 rows × 1 columns</p>\n",
       "</div>"
      ],
      "text/plain": [
       "                     Clustering\n",
       "MAMBELLI, FRANCESCA    0.075970\n",
       "SCOPECE, FIORA         0.074737\n",
       "DIONIGI, IVANO         0.061562\n",
       "CITTI, FRANCESCO       0.060264\n",
       "ZIOSI, ANTONIO         0.059982\n",
       "...                         ...\n",
       "SOTTARA, DAVIDE        0.000000\n",
       "D'ANGELO, GABRIELE     0.000000\n",
       "CAPUCCINO, CARLOTTA    0.000000\n",
       "PERRETTI, FABRIZIO     0.000000\n",
       "DE VIVO, MANUELA       0.000000\n",
       "\n",
       "[398 rows x 1 columns]"
      ]
     },
     "execution_count": 76,
     "metadata": {},
     "output_type": "execute_result"
    }
   ],
   "source": [
    "clustering = nx.clustering(G)\n",
    "clustering_data = pd.DataFrame.from_dict(clustering, \n",
    "                                columns=[\"Clustering\"],\n",
    "                                orient=\"index\")\n",
    "clustering_data.sort_values(by=[\"Clustering\"], ascending=False)"
   ]
  },
  {
   "cell_type": "markdown",
   "metadata": {},
   "source": [
    "Clustering Coefficient:\n",
    "Measures the degree to which nodes in a graph tend to cluster together.\n",
    "\"BARTOLINI, ILARIA\" has the highest clustering coefficient, indicating that this person's neighbors are more interconnected."
   ]
  },
  {
   "cell_type": "code",
   "execution_count": 53,
   "metadata": {},
   "outputs": [
    {
     "name": "stdout",
     "output_type": "stream",
     "text": [
      "Cohesion:  0.7838469280463082\n"
     ]
    }
   ],
   "source": [
    "avg_cohesion = nx.average_clustering(G)\n",
    "print(\"Cohesion: \", avg_cohesion)"
   ]
  },
  {
   "cell_type": "markdown",
   "metadata": {},
   "source": [
    "Average Clustering Coefficient (ACC):\n",
    "The value 0.7838 suggests that, on average, the nodes in the graph tend to form cohesive groups. This coefficient is a measure of the density of triangles in the graph, indicating how much nodes tend to cluster together. A high average clustering coefficient implies that nodes in the graph are well-connected to their neighbors, forming local clusters or communities."
   ]
  },
  {
   "cell_type": "code",
   "execution_count": 54,
   "metadata": {},
   "outputs": [
    {
     "name": "stdout",
     "output_type": "stream",
     "text": [
      "Connectedness:  6\n"
     ]
    }
   ],
   "source": [
    "num_connected_components = nx.number_connected_components(G)\n",
    "print(\"Connectedness: \", num_connected_components)"
   ]
  },
  {
   "cell_type": "markdown",
   "metadata": {},
   "source": [
    "Number of Connected Components:\n",
    "The value 6 indicates that the graph has 6 connected components. A connected component is a subgraph in which there is a path between any two nodes. Having multiple connected components means that there are isolated groups of nodes in the graph. "
   ]
  },
  {
   "cell_type": "code",
   "execution_count": 56,
   "metadata": {},
   "outputs": [
    {
     "name": "stdout",
     "output_type": "stream",
     "text": [
      "Compactness:  0.334764335938241\n"
     ]
    }
   ],
   "source": [
    "def calc_compactness(graph):\n",
    "    shortest_path_lengths = dict(nx.all_pairs_shortest_path_length(graph))\n",
    "\n",
    "    total_compactness = 0\n",
    "    total_pairs = 0\n",
    "\n",
    "    for source, lengths in shortest_path_lengths.items():\n",
    "        for target, distance in lengths.items():\n",
    "            if source != target:\n",
    "                total_compactness += 1 / distance\n",
    "                total_pairs += 1\n",
    "\n",
    "    if total_pairs == 0:\n",
    "        return 0  # Avoid division by zero\n",
    "\n",
    "    return total_compactness / total_pairs\n",
    "\n",
    "compactness = calc_compactness(G)\n",
    "print(\"Compactness: \", compactness)"
   ]
  },
  {
   "cell_type": "markdown",
   "metadata": {},
   "source": [
    "Compactness:\n",
    "The value 0.33476433593824045 is the computed compactness for the given graph. Compactness is calculated as the reciprocal of the geodesic distance between pairs of nodes, this value suggests the following interpretation:\n",
    "The compactness value lies between 0 and 1. Higher compactness values (closer to 1) indicate that nodes in the graph are more easily reachable from each other, potentially through shorter paths. Lower compactness values (closer to 0) suggest that the nodes are less easily reachable from each other, and there might be longer or more circuitous paths between them. The computed compactness value of approximately 0.355 indicates a moderate level of compactness. The reciprocal of the geodesic distances suggests that there are relatively shorter paths between pairs of nodes on average."
   ]
  },
  {
   "cell_type": "code",
   "execution_count": 57,
   "metadata": {},
   "outputs": [
    {
     "name": "stdout",
     "output_type": "stream",
     "text": [
      "Transitivity:  0.6172535975124738\n"
     ]
    }
   ],
   "source": [
    "transitivity = nx.transitivity(G)\n",
    "print(\"Transitivity: \", transitivity)"
   ]
  },
  {
   "cell_type": "markdown",
   "metadata": {},
   "source": [
    "Transitivity:\n",
    "A transitivity value of 0.657 suggests a relatively high level of clustering or transitive relationships within the graph, this value indicates that there are a substantial number of triangles or closed triads in the network. In simpler terms, if node A is connected to both node B and node C, there's a relatively high likelihood that nodes B and C are also directly connected to each other. This pattern of connectivity often reflects a clustering tendency in the network. The transitivity value ranges from 0 to 1, where 0 indicates no transitivity (no triangles or clustering), and 1 indicates maximum transitivity (all possible triangles are present). A value of 0.657 suggests that a significant portion of the graph's nodes are involved in triangles or closed triads, indicating a moderately high level of local clustering in the network."
   ]
  },
  {
   "cell_type": "code",
   "execution_count": 58,
   "metadata": {},
   "outputs": [
    {
     "data": {
      "text/html": [
       "<div>\n",
       "<style scoped>\n",
       "    .dataframe tbody tr th:only-of-type {\n",
       "        vertical-align: middle;\n",
       "    }\n",
       "\n",
       "    .dataframe tbody tr th {\n",
       "        vertical-align: top;\n",
       "    }\n",
       "\n",
       "    .dataframe thead th {\n",
       "        text-align: right;\n",
       "    }\n",
       "</style>\n",
       "<table border=\"1\" class=\"dataframe\">\n",
       "  <thead>\n",
       "    <tr style=\"text-align: right;\">\n",
       "      <th></th>\n",
       "      <th>KCore</th>\n",
       "    </tr>\n",
       "  </thead>\n",
       "  <tbody>\n",
       "    <tr>\n",
       "      <th>RENDA, GIULIA</th>\n",
       "      <td>30</td>\n",
       "    </tr>\n",
       "    <tr>\n",
       "      <th>TOMASI, FRANCESCA</th>\n",
       "      <td>30</td>\n",
       "    </tr>\n",
       "    <tr>\n",
       "      <th>BITELLI, GABRIELE</th>\n",
       "      <td>30</td>\n",
       "    </tr>\n",
       "    <tr>\n",
       "      <th>TINI, MARIA ALESSANDRA</th>\n",
       "      <td>30</td>\n",
       "    </tr>\n",
       "    <tr>\n",
       "      <th>GUALANDI, BIANCA</th>\n",
       "      <td>30</td>\n",
       "    </tr>\n",
       "    <tr>\n",
       "      <th>...</th>\n",
       "      <td>...</td>\n",
       "    </tr>\n",
       "    <tr>\n",
       "      <th>BENIGNI, FEDERICA</th>\n",
       "      <td>1</td>\n",
       "    </tr>\n",
       "    <tr>\n",
       "      <th>SOTTARA, DAVIDE</th>\n",
       "      <td>1</td>\n",
       "    </tr>\n",
       "    <tr>\n",
       "      <th>VAN HENTENRYCK, PASCAL RENÉ M.</th>\n",
       "      <td>1</td>\n",
       "    </tr>\n",
       "    <tr>\n",
       "      <th>FERRARIO, ROBERTA</th>\n",
       "      <td>1</td>\n",
       "    </tr>\n",
       "    <tr>\n",
       "      <th>DE VIVO, MANUELA</th>\n",
       "      <td>1</td>\n",
       "    </tr>\n",
       "  </tbody>\n",
       "</table>\n",
       "<p>398 rows × 1 columns</p>\n",
       "</div>"
      ],
      "text/plain": [
       "                                KCore\n",
       "RENDA, GIULIA                      30\n",
       "TOMASI, FRANCESCA                  30\n",
       "BITELLI, GABRIELE                  30\n",
       "TINI, MARIA ALESSANDRA             30\n",
       "GUALANDI, BIANCA                   30\n",
       "...                               ...\n",
       "BENIGNI, FEDERICA                   1\n",
       "SOTTARA, DAVIDE                     1\n",
       "VAN HENTENRYCK, PASCAL RENÉ M.      1\n",
       "FERRARIO, ROBERTA                   1\n",
       "DE VIVO, MANUELA                    1\n",
       "\n",
       "[398 rows x 1 columns]"
      ]
     },
     "execution_count": 58,
     "metadata": {},
     "output_type": "execute_result"
    }
   ],
   "source": [
    "core_number = nx.core_number(G)\n",
    "k_data = pd.DataFrame.from_dict(core_number,\n",
    "                                    columns=[\"KCore\"],\n",
    "                                    orient=\"index\")\n",
    "k_data.sort_values(by=[\"KCore\"], ascending=False)"
   ]
  },
  {
   "cell_type": "markdown",
   "metadata": {},
   "source": [
    "High Core Numbers:\n",
    "Nodes like \"RENDA, GIULIA,\" \"TOMASI, FRANCESCA,\" \"BITELLI, GABRIELE,\" etc., have a core number of 30. This indicates that these nodes are part of the 30-core, which means they are highly interconnected and form a central part of the network.\n",
    "\n",
    "Uniform Core Numbers:\n",
    "The fact that many nodes have the same core number (30) suggests a relatively homogeneous and densely connected region in the network. It could indicate a well-connected community or subgroup.\n",
    "\n",
    "Low Core Numbers:\n",
    "Nodes like \"BENIGNI, FEDERICA,\" \"SOTTARA, DAVIDE,\" \"VAN HENTENRYCK, PASCAL RENÉ M.,\" etc., have a core number of 1. These nodes are less connected and likely part of the periphery of the network.\n",
    "\n",
    "Network Structure:\n",
    "The presence of both high and low core numbers suggests a hierarchical or modular structure in the network. The nodes with high core numbers form a cohesive core, while nodes with low core numbers are more on the outskirts or in less-connected regions.\n",
    "\n",
    "Centrality and Importance:\n",
    "Nodes with high core numbers are likely to be more central and play a more crucial role in connecting different parts of the network. Nodes with low core numbers may have more specialized or isolated roles."
   ]
  },
  {
   "cell_type": "code",
   "execution_count": 60,
   "metadata": {},
   "outputs": [
    {
     "data": {
      "text/html": [
       "<div>\n",
       "<style scoped>\n",
       "    .dataframe tbody tr th:only-of-type {\n",
       "        vertical-align: middle;\n",
       "    }\n",
       "\n",
       "    .dataframe tbody tr th {\n",
       "        vertical-align: top;\n",
       "    }\n",
       "\n",
       "    .dataframe thead th {\n",
       "        text-align: right;\n",
       "    }\n",
       "</style>\n",
       "<table border=\"1\" class=\"dataframe\">\n",
       "  <thead>\n",
       "    <tr style=\"text-align: right;\">\n",
       "      <th></th>\n",
       "      <th>Communities</th>\n",
       "    </tr>\n",
       "  </thead>\n",
       "  <tbody>\n",
       "    <tr>\n",
       "      <th>IOVINE, GIULIO</th>\n",
       "      <td>13</td>\n",
       "    </tr>\n",
       "    <tr>\n",
       "      <th>CAPUCCINO, CARLOTTA</th>\n",
       "      <td>13</td>\n",
       "    </tr>\n",
       "    <tr>\n",
       "      <th>LILLO, FABRIZIO</th>\n",
       "      <td>12</td>\n",
       "    </tr>\n",
       "    <tr>\n",
       "      <th>TRAPIN, LUCA</th>\n",
       "      <td>12</td>\n",
       "    </tr>\n",
       "    <tr>\n",
       "      <th>PLAZZI, GIUSEPPE</th>\n",
       "      <td>11</td>\n",
       "    </tr>\n",
       "    <tr>\n",
       "      <th>...</th>\n",
       "      <td>...</td>\n",
       "    </tr>\n",
       "    <tr>\n",
       "      <th>TURRINI, ELISA</th>\n",
       "      <td>0</td>\n",
       "    </tr>\n",
       "    <tr>\n",
       "      <th>SARTOR, GIOVANNI</th>\n",
       "      <td>0</td>\n",
       "    </tr>\n",
       "    <tr>\n",
       "      <th>PODDA, EMANUELA</th>\n",
       "      <td>0</td>\n",
       "    </tr>\n",
       "    <tr>\n",
       "      <th>SACERDOTI COEN, CLAUDIO</th>\n",
       "      <td>0</td>\n",
       "    </tr>\n",
       "    <tr>\n",
       "      <th>TEIXEIRA SANTOS, CRISTIANA</th>\n",
       "      <td>0</td>\n",
       "    </tr>\n",
       "  </tbody>\n",
       "</table>\n",
       "<p>398 rows × 1 columns</p>\n",
       "</div>"
      ],
      "text/plain": [
       "                            Communities\n",
       "IOVINE, GIULIO                       13\n",
       "CAPUCCINO, CARLOTTA                  13\n",
       "LILLO, FABRIZIO                      12\n",
       "TRAPIN, LUCA                         12\n",
       "PLAZZI, GIUSEPPE                     11\n",
       "...                                 ...\n",
       "TURRINI, ELISA                        0\n",
       "SARTOR, GIOVANNI                      0\n",
       "PODDA, EMANUELA                       0\n",
       "SACERDOTI COEN, CLAUDIO               0\n",
       "TEIXEIRA SANTOS, CRISTIANA            0\n",
       "\n",
       "[398 rows x 1 columns]"
      ]
     },
     "execution_count": 60,
     "metadata": {},
     "output_type": "execute_result"
    }
   ],
   "source": [
    "communities = nx.algorithms.community.greedy_modularity_communities(G)\n",
    "community_mapping = {}\n",
    "for i, community in enumerate(communities):\n",
    "    for node in community:\n",
    "        community_mapping[node] = i\n",
    "        \n",
    "\n",
    "c_data = pd.DataFrame.from_dict(community_mapping,\n",
    "                                    columns=[\"Communities\"],\n",
    "                                    orient=\"index\")\n",
    "c_data.sort_values(by=[\"Communities\"], ascending=False)"
   ]
  },
  {
   "cell_type": "markdown",
   "metadata": {},
   "source": [
    "Community Sizes:\n",
    "For each professor, the number next to their name represents the size of the community to which they belong. For example, \"IOVINE, GIULIO\" belongs to a community of size 13. The sizes of the communities vary, ranging from 13 to 0. Larger community sizes may indicate more cohesive or tightly connected groups within your network. Professors like \"TURRINI, ELISA\" and \"SARTOR, GIOVANNI\" belong to communities with zero size. This might imply that they are not part of any identified community according to the Greedy Modularity algorithm."
   ]
  },
  {
   "cell_type": "code",
   "execution_count": 62,
   "metadata": {},
   "outputs": [
    {
     "data": {
      "text/plain": [
       "0.3298041291688724"
      ]
     },
     "execution_count": 62,
     "metadata": {},
     "output_type": "execute_result"
    }
   ],
   "source": [
    "def homophily(G):\n",
    "    num_same_ties = 0\n",
    "    num_diff_ties = 0\n",
    "    for n1, n2 in G.edges():\n",
    "        if G.nodes[n1]['affiliation'] == G.nodes[n2]['affiliation']:\n",
    "            num_same_ties += 1\n",
    "        else:\n",
    "            num_diff_ties += 1\n",
    "    return (num_same_ties / (num_same_ties + num_diff_ties))\n",
    "homophily(G)"
   ]
  },
  {
   "cell_type": "markdown",
   "metadata": {},
   "source": [
    "A homophily value of 0.3298041291688724 suggests a moderate level of homophily in your network. Homophily refers to the tendency of nodes with similar characteristics to be connected to each other in a network. The value ranges from 0 to 1, where:\n",
    "0 indicates no homophily (nodes with similar characteristics are not more likely to be connected).\n",
    "1 indicates perfect homophily (nodes with similar characteristics are always connected)."
   ]
  },
  {
   "cell_type": "code",
   "execution_count": 66,
   "metadata": {},
   "outputs": [
    {
     "name": "stdout",
     "output_type": "stream",
     "text": [
      "                           name  connections_outside_affiliation  \\\n",
      "3               PESCARIN, SOFIA                               33   \n",
      "10               IOVINE, GIULIO                                1   \n",
      "4                 GANGEMI, ALDO                               38   \n",
      "0                PERONI, SILVIO                               61   \n",
      "11            BARTOLINI, ILARIA                               37   \n",
      "6              TAMBURINI, FABIO                               28   \n",
      "7             DAQUINO, MARILENA                               32   \n",
      "2                 VITALI, FABIO                               35   \n",
      "13            PALMIRANI, MONICA                               25   \n",
      "12           SPEDICATO, GIORGIO                                2   \n",
      "1             TOMASI, FRANCESCA                               42   \n",
      "8          GIALLORENZO, SAVERIO                               10   \n",
      "9         ZUFFRANO, ANNAFELICIA                                2   \n",
      "5   ITALIA, PAOLA MARIA CARMELA                                5   \n",
      "15             FERRIANI, SIMONE                                5   \n",
      "14         BASKAKOVA, EKATERINA                                0   \n",
      "\n",
      "                                          affiliation  total_connections  \\\n",
      "3                   ARAG - AREA FINANZA E PARTECIPATE                 33   \n",
      "10            DIPARTIMENTO DI STORIA CULTURE CIVILTA'                  1   \n",
      "4           DIPARTIMENTO DI FILOSOFIA E COMUNICAZIONE                 43   \n",
      "0   DIPARTIMENTO DI FILOLOGIA CLASSICA E ITALIANIS...                 75   \n",
      "11  DIPARTIMENTO DI INFORMATICA - SCIENZA E INGEGN...                 49   \n",
      "6   DIPARTIMENTO DI FILOLOGIA CLASSICA E ITALIANIS...                 39   \n",
      "7   DIPARTIMENTO DI FILOLOGIA CLASSICA E ITALIANIS...                 48   \n",
      "2   DIPARTIMENTO DI INFORMATICA - SCIENZA E INGEGN...                 55   \n",
      "13                 DIPARTIMENTO DI SCIENZE GIURIDICHE                 40   \n",
      "12                 DIPARTIMENTO DI SCIENZE GIURIDICHE                  4   \n",
      "1   DIPARTIMENTO DI FILOLOGIA CLASSICA E ITALIANIS...                 85   \n",
      "8   DIPARTIMENTO DI INFORMATICA - SCIENZA E INGEGN...                 23   \n",
      "9   DIPARTIMENTO DI FILOLOGIA CLASSICA E ITALIANIS...                  5   \n",
      "5   DIPARTIMENTO DI FILOLOGIA CLASSICA E ITALIANIS...                 16   \n",
      "15                  DIPARTIMENTO DI SCIENZE AZIENDALI                 17   \n",
      "14                  DIPARTIMENTO DI SCIENZE AZIENDALI                  2   \n",
      "\n",
      "    ratio  \n",
      "3    1.00  \n",
      "10   1.00  \n",
      "4    0.88  \n",
      "0    0.81  \n",
      "11   0.76  \n",
      "6    0.72  \n",
      "7    0.67  \n",
      "2    0.64  \n",
      "13   0.62  \n",
      "12   0.50  \n",
      "1    0.49  \n",
      "8    0.43  \n",
      "9    0.40  \n",
      "5    0.31  \n",
      "15   0.29  \n",
      "14   0.00  \n"
     ]
    }
   ],
   "source": [
    "prof_list = ['PERONI, SILVIO', 'TOMASI, FRANCESCA', 'VITALI, FABIO', 'PESCARIN, SOFIA', 'GANGEMI, ALDO', 'ITALIA, PAOLA MARIA CARMELA', 'TAMBURINI, FABIO', 'DAQUINO, MARILENA', 'GIALLORENZO, SAVERIO', 'ZUFFRANO, ANNAFELICIA', 'IOVINE, GIULIO', 'BARTOLINI, ILARIA', 'SPEDICATO, GIORGIO', 'PALMIRANI, MONICA', 'BASKAKOVA, EKATERINA', 'FERRIANI, SIMONE']\n",
    "def affiliation_homophiliy(G, nodes):\n",
    "    data = []\n",
    "    for node in nodes:\n",
    "        affiliation = G.nodes[node]['affiliation']\n",
    "        neighbors = list(G.neighbors(node))\n",
    "        total_connections = len(neighbors)\n",
    "        connections_outside_affiliation = sum(1 for neighbor in neighbors if G.nodes[neighbor]['affiliation'] != affiliation)\n",
    "        \n",
    "        ratio = 0 if total_connections == 0 else round(connections_outside_affiliation / total_connections, 2)\n",
    "\n",
    "        data.append([node, connections_outside_affiliation, affiliation, total_connections, ratio])\n",
    "\n",
    "    df = pd.DataFrame(data, columns=['name', 'connections_outside_affiliation', 'affiliation', 'total_connections', 'ratio'])\n",
    "    return df.sort_values(by=['ratio'], ascending=False)\n",
    "print(affiliation_homophiliy(G, prof_list))\n"
   ]
  }
 ],
 "metadata": {
  "kernelspec": {
   "display_name": "Python 3",
   "language": "python",
   "name": "python3"
  },
  "language_info": {
   "codemirror_mode": {
    "name": "ipython",
    "version": 3
   },
   "file_extension": ".py",
   "mimetype": "text/x-python",
   "name": "python",
   "nbconvert_exporter": "python",
   "pygments_lexer": "ipython3",
   "version": "3.10.8"
  }
 },
 "nbformat": 4,
 "nbformat_minor": 2
}
