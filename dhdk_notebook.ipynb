{
 "cells": [
  {
   "cell_type": "markdown",
   "metadata": {},
   "source": [
    "First step: import the libraries"
   ]
  },
  {
   "cell_type": "code",
   "execution_count": 35,
   "metadata": {},
   "outputs": [],
   "source": [
    "import json\n",
    "import pandas as pd\n",
    "import numpy as np\n",
    "import networkx as nx\n",
    "from pprint import pprint\n",
    "import matplotlib.pyplot as plt\n",
    "from itertools import combinations"
   ]
  },
  {
   "cell_type": "markdown",
   "metadata": {},
   "source": [
    "Second step: path to the graph stored in gml format"
   ]
  },
  {
   "cell_type": "code",
   "execution_count": 42,
   "metadata": {},
   "outputs": [],
   "source": [
    "G = nx.read_gml(\"data/dhdk/dhdk_coauthorship_network.gml\")"
   ]
  },
  {
   "cell_type": "markdown",
   "metadata": {},
   "source": [
    "Third step: apply measures"
   ]
  },
  {
   "cell_type": "code",
   "execution_count": 45,
   "metadata": {},
   "outputs": [
    {
     "data": {
      "text/html": [
       "<div>\n",
       "<style scoped>\n",
       "    .dataframe tbody tr th:only-of-type {\n",
       "        vertical-align: middle;\n",
       "    }\n",
       "\n",
       "    .dataframe tbody tr th {\n",
       "        vertical-align: top;\n",
       "    }\n",
       "\n",
       "    .dataframe thead th {\n",
       "        text-align: right;\n",
       "    }\n",
       "</style>\n",
       "<table border=\"1\" class=\"dataframe\">\n",
       "  <thead>\n",
       "    <tr style=\"text-align: right;\">\n",
       "      <th></th>\n",
       "      <th>BetweennessCentrality</th>\n",
       "    </tr>\n",
       "  </thead>\n",
       "  <tbody>\n",
       "    <tr>\n",
       "      <th>TOMASI, FRANCESCA</th>\n",
       "      <td>0.383470</td>\n",
       "    </tr>\n",
       "    <tr>\n",
       "      <th>BARTOLINI, ILARIA</th>\n",
       "      <td>0.310492</td>\n",
       "    </tr>\n",
       "    <tr>\n",
       "      <th>PERONI, SILVIO</th>\n",
       "      <td>0.185211</td>\n",
       "    </tr>\n",
       "    <tr>\n",
       "      <th>MILANO, MICHELA</th>\n",
       "      <td>0.170525</td>\n",
       "    </tr>\n",
       "    <tr>\n",
       "      <th>VITALI, FABIO</th>\n",
       "      <td>0.149762</td>\n",
       "    </tr>\n",
       "    <tr>\n",
       "      <th>...</th>\n",
       "      <td>...</td>\n",
       "    </tr>\n",
       "    <tr>\n",
       "      <th>FANTINI, MARIA PIA</th>\n",
       "      <td>0.000000</td>\n",
       "    </tr>\n",
       "    <tr>\n",
       "      <th>BUJOR, OCTAVIAN</th>\n",
       "      <td>0.000000</td>\n",
       "    </tr>\n",
       "    <tr>\n",
       "      <th>FALCHETTI, DENISE</th>\n",
       "      <td>0.000000</td>\n",
       "    </tr>\n",
       "    <tr>\n",
       "      <th>SANGIORGI, DAVIDE</th>\n",
       "      <td>0.000000</td>\n",
       "    </tr>\n",
       "    <tr>\n",
       "      <th>DE VIVO, MANUELA</th>\n",
       "      <td>0.000000</td>\n",
       "    </tr>\n",
       "  </tbody>\n",
       "</table>\n",
       "<p>398 rows × 1 columns</p>\n",
       "</div>"
      ],
      "text/plain": [
       "                    BetweennessCentrality\n",
       "TOMASI, FRANCESCA                0.383470\n",
       "BARTOLINI, ILARIA                0.310492\n",
       "PERONI, SILVIO                   0.185211\n",
       "MILANO, MICHELA                  0.170525\n",
       "VITALI, FABIO                    0.149762\n",
       "...                                   ...\n",
       "FANTINI, MARIA PIA               0.000000\n",
       "BUJOR, OCTAVIAN                  0.000000\n",
       "FALCHETTI, DENISE                0.000000\n",
       "SANGIORGI, DAVIDE                0.000000\n",
       "DE VIVO, MANUELA                 0.000000\n",
       "\n",
       "[398 rows x 1 columns]"
      ]
     },
     "execution_count": 45,
     "metadata": {},
     "output_type": "execute_result"
    }
   ],
   "source": [
    "\n",
    "betweenness_centrality = nx.betweenness_centrality(G)\n",
    "bc_data = pd.DataFrame.from_dict(betweenness_centrality, \n",
    "                                columns=[\"BetweennessCentrality\"], \n",
    "                                orient=\"index\")\n",
    "bc_data.sort_values(by=[\"BetweennessCentrality\"], ascending=False)"
   ]
  },
  {
   "cell_type": "markdown",
   "metadata": {},
   "source": [
    "Betweenness Centrality:\n",
    "High values suggest that the node plays a critical role in connecting other nodes in the network:\n",
    "\"TOMASI, FRANCESCA\" has the highest betweenness centrality, indicating that this individual's presence is crucial for maintaining connectivity between other nodes.\n"
   ]
  },
  {
   "cell_type": "code",
   "execution_count": 49,
   "metadata": {},
   "outputs": [
    {
     "data": {
      "text/html": [
       "<div>\n",
       "<style scoped>\n",
       "    .dataframe tbody tr th:only-of-type {\n",
       "        vertical-align: middle;\n",
       "    }\n",
       "\n",
       "    .dataframe tbody tr th {\n",
       "        vertical-align: top;\n",
       "    }\n",
       "\n",
       "    .dataframe thead th {\n",
       "        text-align: right;\n",
       "    }\n",
       "</style>\n",
       "<table border=\"1\" class=\"dataframe\">\n",
       "  <thead>\n",
       "    <tr style=\"text-align: right;\">\n",
       "      <th></th>\n",
       "      <th>DegreeCentrality</th>\n",
       "    </tr>\n",
       "  </thead>\n",
       "  <tbody>\n",
       "    <tr>\n",
       "      <th>TOMASI, FRANCESCA</th>\n",
       "      <td>0.214106</td>\n",
       "    </tr>\n",
       "    <tr>\n",
       "      <th>PERONI, SILVIO</th>\n",
       "      <td>0.188917</td>\n",
       "    </tr>\n",
       "    <tr>\n",
       "      <th>MILANO, MICHELA</th>\n",
       "      <td>0.166247</td>\n",
       "    </tr>\n",
       "    <tr>\n",
       "      <th>VITALI, FABIO</th>\n",
       "      <td>0.138539</td>\n",
       "    </tr>\n",
       "    <tr>\n",
       "      <th>BARTOLINI, ILARIA</th>\n",
       "      <td>0.123426</td>\n",
       "    </tr>\n",
       "    <tr>\n",
       "      <th>...</th>\n",
       "      <td>...</td>\n",
       "    </tr>\n",
       "    <tr>\n",
       "      <th>OMICINI, ANDREA</th>\n",
       "      <td>0.002519</td>\n",
       "    </tr>\n",
       "    <tr>\n",
       "      <th>DI TELLA, ALESSANDRA</th>\n",
       "      <td>0.002519</td>\n",
       "    </tr>\n",
       "    <tr>\n",
       "      <th>ROSSI, FEDERICA</th>\n",
       "      <td>0.002519</td>\n",
       "    </tr>\n",
       "    <tr>\n",
       "      <th>GODART, FREDERIC</th>\n",
       "      <td>0.002519</td>\n",
       "    </tr>\n",
       "    <tr>\n",
       "      <th>DE VIVO, MANUELA</th>\n",
       "      <td>0.002519</td>\n",
       "    </tr>\n",
       "  </tbody>\n",
       "</table>\n",
       "<p>398 rows × 1 columns</p>\n",
       "</div>"
      ],
      "text/plain": [
       "                      DegreeCentrality\n",
       "TOMASI, FRANCESCA             0.214106\n",
       "PERONI, SILVIO                0.188917\n",
       "MILANO, MICHELA               0.166247\n",
       "VITALI, FABIO                 0.138539\n",
       "BARTOLINI, ILARIA             0.123426\n",
       "...                                ...\n",
       "OMICINI, ANDREA               0.002519\n",
       "DI TELLA, ALESSANDRA          0.002519\n",
       "ROSSI, FEDERICA               0.002519\n",
       "GODART, FREDERIC              0.002519\n",
       "DE VIVO, MANUELA              0.002519\n",
       "\n",
       "[398 rows x 1 columns]"
      ]
     },
     "execution_count": 49,
     "metadata": {},
     "output_type": "execute_result"
    }
   ],
   "source": [
    "degree_centrality = nx.degree_centrality(G)\n",
    "dc_data = pd.DataFrame.from_dict(degree_centrality, \n",
    "                                columns=[\"DegreeCentrality\"], \n",
    "                                orient=\"index\")\n",
    "dc_data.sort_values(by=[\"DegreeCentrality\"], ascending=False)"
   ]
  },
  {
   "cell_type": "markdown",
   "metadata": {},
   "source": [
    "Degree Centrality:\n",
    "Reflects the number of connections a node has.\n",
    "\"TOMASI, FRANCESCA\" has the highest degree centrality, implying that this person has the most direct connections."
   ]
  },
  {
   "cell_type": "code",
   "execution_count": 50,
   "metadata": {},
   "outputs": [
    {
     "data": {
      "text/html": [
       "<div>\n",
       "<style scoped>\n",
       "    .dataframe tbody tr th:only-of-type {\n",
       "        vertical-align: middle;\n",
       "    }\n",
       "\n",
       "    .dataframe tbody tr th {\n",
       "        vertical-align: top;\n",
       "    }\n",
       "\n",
       "    .dataframe thead th {\n",
       "        text-align: right;\n",
       "    }\n",
       "</style>\n",
       "<table border=\"1\" class=\"dataframe\">\n",
       "  <thead>\n",
       "    <tr style=\"text-align: right;\">\n",
       "      <th></th>\n",
       "      <th>ClosenessCentrality</th>\n",
       "    </tr>\n",
       "  </thead>\n",
       "  <tbody>\n",
       "    <tr>\n",
       "      <th>TOMASI, FRANCESCA</th>\n",
       "      <td>0.420055</td>\n",
       "    </tr>\n",
       "    <tr>\n",
       "      <th>PERONI, SILVIO</th>\n",
       "      <td>0.394565</td>\n",
       "    </tr>\n",
       "    <tr>\n",
       "      <th>VITALI, FABIO</th>\n",
       "      <td>0.380147</td>\n",
       "    </tr>\n",
       "    <tr>\n",
       "      <th>BARTOLINI, ILARIA</th>\n",
       "      <td>0.355063</td>\n",
       "    </tr>\n",
       "    <tr>\n",
       "      <th>BARZAGHI, SEBASTIAN</th>\n",
       "      <td>0.352656</td>\n",
       "    </tr>\n",
       "    <tr>\n",
       "      <th>...</th>\n",
       "      <td>...</td>\n",
       "    </tr>\n",
       "    <tr>\n",
       "      <th>PICCININI, ALESSANDRO</th>\n",
       "      <td>0.006717</td>\n",
       "    </tr>\n",
       "    <tr>\n",
       "      <th>IOVINE, GIULIO</th>\n",
       "      <td>0.002519</td>\n",
       "    </tr>\n",
       "    <tr>\n",
       "      <th>CAPUCCINO, CARLOTTA</th>\n",
       "      <td>0.002519</td>\n",
       "    </tr>\n",
       "    <tr>\n",
       "      <th>LILLO, FABRIZIO</th>\n",
       "      <td>0.002519</td>\n",
       "    </tr>\n",
       "    <tr>\n",
       "      <th>TRAPIN, LUCA</th>\n",
       "      <td>0.002519</td>\n",
       "    </tr>\n",
       "  </tbody>\n",
       "</table>\n",
       "<p>398 rows × 1 columns</p>\n",
       "</div>"
      ],
      "text/plain": [
       "                       ClosenessCentrality\n",
       "TOMASI, FRANCESCA                 0.420055\n",
       "PERONI, SILVIO                    0.394565\n",
       "VITALI, FABIO                     0.380147\n",
       "BARTOLINI, ILARIA                 0.355063\n",
       "BARZAGHI, SEBASTIAN               0.352656\n",
       "...                                    ...\n",
       "PICCININI, ALESSANDRO             0.006717\n",
       "IOVINE, GIULIO                    0.002519\n",
       "CAPUCCINO, CARLOTTA               0.002519\n",
       "LILLO, FABRIZIO                   0.002519\n",
       "TRAPIN, LUCA                      0.002519\n",
       "\n",
       "[398 rows x 1 columns]"
      ]
     },
     "execution_count": 50,
     "metadata": {},
     "output_type": "execute_result"
    }
   ],
   "source": [
    "closeness_centrality = nx.closeness_centrality(G)\n",
    "cc_data = pd.DataFrame.from_dict(closeness_centrality, \n",
    "                                columns=[\"ClosenessCentrality\"], \n",
    "                                orient=\"index\")\n",
    "cc_data.sort_values(by=[\"ClosenessCentrality\"], ascending=False)"
   ]
  },
  {
   "cell_type": "markdown",
   "metadata": {},
   "source": [
    "Closeness Centrality:\n",
    "Indicates how close a node is to all other nodes in the network.\n",
    "\"TOMASI, FRANCESCA\" again has the highest closeness centrality, suggesting that this person can reach other nodes more quickly on average."
   ]
  },
  {
   "cell_type": "code",
   "execution_count": 51,
   "metadata": {},
   "outputs": [
    {
     "data": {
      "text/html": [
       "<div>\n",
       "<style scoped>\n",
       "    .dataframe tbody tr th:only-of-type {\n",
       "        vertical-align: middle;\n",
       "    }\n",
       "\n",
       "    .dataframe tbody tr th {\n",
       "        vertical-align: top;\n",
       "    }\n",
       "\n",
       "    .dataframe thead th {\n",
       "        text-align: right;\n",
       "    }\n",
       "</style>\n",
       "<table border=\"1\" class=\"dataframe\">\n",
       "  <thead>\n",
       "    <tr style=\"text-align: right;\">\n",
       "      <th></th>\n",
       "      <th>EigenvectorCentrality</th>\n",
       "    </tr>\n",
       "  </thead>\n",
       "  <tbody>\n",
       "    <tr>\n",
       "      <th>TOMASI, FRANCESCA</th>\n",
       "      <td>1.977972e-01</td>\n",
       "    </tr>\n",
       "    <tr>\n",
       "      <th>PERONI, SILVIO</th>\n",
       "      <td>1.970976e-01</td>\n",
       "    </tr>\n",
       "    <tr>\n",
       "      <th>DAQUINO, MARILENA</th>\n",
       "      <td>1.868735e-01</td>\n",
       "    </tr>\n",
       "    <tr>\n",
       "      <th>BARZAGHI, SEBASTIAN</th>\n",
       "      <td>1.792837e-01</td>\n",
       "    </tr>\n",
       "    <tr>\n",
       "      <th>PESCARIN, SOFIA</th>\n",
       "      <td>1.784584e-01</td>\n",
       "    </tr>\n",
       "    <tr>\n",
       "      <th>...</th>\n",
       "      <td>...</td>\n",
       "    </tr>\n",
       "    <tr>\n",
       "      <th>PICCININI, ALESSANDRO</th>\n",
       "      <td>4.923442e-29</td>\n",
       "    </tr>\n",
       "    <tr>\n",
       "      <th>CAPUCCINO, CARLOTTA</th>\n",
       "      <td>3.077382e-36</td>\n",
       "    </tr>\n",
       "    <tr>\n",
       "      <th>IOVINE, GIULIO</th>\n",
       "      <td>3.077382e-36</td>\n",
       "    </tr>\n",
       "    <tr>\n",
       "      <th>LILLO, FABRIZIO</th>\n",
       "      <td>3.077382e-36</td>\n",
       "    </tr>\n",
       "    <tr>\n",
       "      <th>TRAPIN, LUCA</th>\n",
       "      <td>3.077382e-36</td>\n",
       "    </tr>\n",
       "  </tbody>\n",
       "</table>\n",
       "<p>398 rows × 1 columns</p>\n",
       "</div>"
      ],
      "text/plain": [
       "                       EigenvectorCentrality\n",
       "TOMASI, FRANCESCA               1.977972e-01\n",
       "PERONI, SILVIO                  1.970976e-01\n",
       "DAQUINO, MARILENA               1.868735e-01\n",
       "BARZAGHI, SEBASTIAN             1.792837e-01\n",
       "PESCARIN, SOFIA                 1.784584e-01\n",
       "...                                      ...\n",
       "PICCININI, ALESSANDRO           4.923442e-29\n",
       "CAPUCCINO, CARLOTTA             3.077382e-36\n",
       "IOVINE, GIULIO                  3.077382e-36\n",
       "LILLO, FABRIZIO                 3.077382e-36\n",
       "TRAPIN, LUCA                    3.077382e-36\n",
       "\n",
       "[398 rows x 1 columns]"
      ]
     },
     "execution_count": 51,
     "metadata": {},
     "output_type": "execute_result"
    }
   ],
   "source": [
    "eigenvector_centrality = nx.eigenvector_centrality(G)\n",
    "ec_data = pd.DataFrame.from_dict(eigenvector_centrality, \n",
    "                                columns=[\"EigenvectorCentrality\"], \n",
    "                                orient=\"index\")\n",
    "ec_data.sort_values(by=[\"EigenvectorCentrality\"], ascending=False)"
   ]
  },
  {
   "cell_type": "markdown",
   "metadata": {},
   "source": [
    "Eigenvector Centrality:\n",
    "Considers both the number and the importance of a node's neighbors.\n",
    "\"TOMASI, FRANCESCA\" has the highest eigenvector centrality, implying that the people connected to this person are themselves well-connected."
   ]
  },
  {
   "cell_type": "code",
   "execution_count": 52,
   "metadata": {},
   "outputs": [
    {
     "data": {
      "text/html": [
       "<div>\n",
       "<style scoped>\n",
       "    .dataframe tbody tr th:only-of-type {\n",
       "        vertical-align: middle;\n",
       "    }\n",
       "\n",
       "    .dataframe tbody tr th {\n",
       "        vertical-align: top;\n",
       "    }\n",
       "\n",
       "    .dataframe thead th {\n",
       "        text-align: right;\n",
       "    }\n",
       "</style>\n",
       "<table border=\"1\" class=\"dataframe\">\n",
       "  <thead>\n",
       "    <tr style=\"text-align: right;\">\n",
       "      <th></th>\n",
       "      <th>Clustering</th>\n",
       "    </tr>\n",
       "  </thead>\n",
       "  <tbody>\n",
       "    <tr>\n",
       "      <th>REFORGIATO RECUPERO, DIEGO ANGELO</th>\n",
       "      <td>1.0</td>\n",
       "    </tr>\n",
       "    <tr>\n",
       "      <th>STOPPELLI, PASQUALE</th>\n",
       "      <td>1.0</td>\n",
       "    </tr>\n",
       "    <tr>\n",
       "      <th>GIACOMINI, FEDERICA</th>\n",
       "      <td>1.0</td>\n",
       "    </tr>\n",
       "    <tr>\n",
       "      <th>MARTINEZ PANDIANI, DELFINA SOL</th>\n",
       "      <td>1.0</td>\n",
       "    </tr>\n",
       "    <tr>\n",
       "      <th>BOLOGNESI, MARIANNA MARCELLA</th>\n",
       "      <td>1.0</td>\n",
       "    </tr>\n",
       "    <tr>\n",
       "      <th>...</th>\n",
       "      <td>...</td>\n",
       "    </tr>\n",
       "    <tr>\n",
       "      <th>GODART, FREDERIC</th>\n",
       "      <td>0.0</td>\n",
       "    </tr>\n",
       "    <tr>\n",
       "      <th>CAINI, CARLO</th>\n",
       "      <td>0.0</td>\n",
       "    </tr>\n",
       "    <tr>\n",
       "      <th>MASTRONARDO, CLAUDIO</th>\n",
       "      <td>0.0</td>\n",
       "    </tr>\n",
       "    <tr>\n",
       "      <th>GIULIANI, ANTONIO</th>\n",
       "      <td>0.0</td>\n",
       "    </tr>\n",
       "    <tr>\n",
       "      <th>DE VIVO, MANUELA</th>\n",
       "      <td>0.0</td>\n",
       "    </tr>\n",
       "  </tbody>\n",
       "</table>\n",
       "<p>398 rows × 1 columns</p>\n",
       "</div>"
      ],
      "text/plain": [
       "                                   Clustering\n",
       "REFORGIATO RECUPERO, DIEGO ANGELO         1.0\n",
       "STOPPELLI, PASQUALE                       1.0\n",
       "GIACOMINI, FEDERICA                       1.0\n",
       "MARTINEZ PANDIANI, DELFINA SOL            1.0\n",
       "BOLOGNESI, MARIANNA MARCELLA              1.0\n",
       "...                                       ...\n",
       "GODART, FREDERIC                          0.0\n",
       "CAINI, CARLO                              0.0\n",
       "MASTRONARDO, CLAUDIO                      0.0\n",
       "GIULIANI, ANTONIO                         0.0\n",
       "DE VIVO, MANUELA                          0.0\n",
       "\n",
       "[398 rows x 1 columns]"
      ]
     },
     "execution_count": 52,
     "metadata": {},
     "output_type": "execute_result"
    }
   ],
   "source": [
    "clustering = nx.clustering(G)\n",
    "clustering_data = pd.DataFrame.from_dict(clustering, \n",
    "                                columns=[\"Clustering\"],\n",
    "                                orient=\"index\")\n",
    "clustering_data.sort_values(by=[\"Clustering\"], ascending=False)"
   ]
  },
  {
   "cell_type": "markdown",
   "metadata": {},
   "source": [
    "Clustering Coefficient:\n",
    "Measures the degree to which nodes in a graph tend to cluster together.\n",
    "\"BARTOLINI, ILARIA\" has the highest clustering coefficient, indicating that this person's neighbors are more interconnected."
   ]
  },
  {
   "cell_type": "code",
   "execution_count": 53,
   "metadata": {},
   "outputs": [
    {
     "name": "stdout",
     "output_type": "stream",
     "text": [
      "Cohesion:  0.7838469280463082\n"
     ]
    }
   ],
   "source": [
    "avg_cohesion = nx.average_clustering(G)\n",
    "print(\"Cohesion: \", avg_cohesion)"
   ]
  },
  {
   "cell_type": "markdown",
   "metadata": {},
   "source": [
    "Average Clustering Coefficient (ACC):\n",
    "The value 0.7838 suggests that, on average, the nodes in the graph tend to form cohesive groups. This coefficient is a measure of the density of triangles in the graph, indicating how much nodes tend to cluster together. A high average clustering coefficient implies that nodes in the graph are well-connected to their neighbors, forming local clusters or communities."
   ]
  },
  {
   "cell_type": "code",
   "execution_count": 54,
   "metadata": {},
   "outputs": [
    {
     "name": "stdout",
     "output_type": "stream",
     "text": [
      "Connectedness:  6\n"
     ]
    }
   ],
   "source": [
    "num_connected_components = nx.number_connected_components(G)\n",
    "print(\"Connectedness: \", num_connected_components)"
   ]
  },
  {
   "cell_type": "markdown",
   "metadata": {},
   "source": [
    "Number of Connected Components:\n",
    "The value 6 indicates that the graph has 6 connected components. A connected component is a subgraph in which there is a path between any two nodes. Having multiple connected components means that there are isolated groups of nodes in the graph. "
   ]
  },
  {
   "cell_type": "code",
   "execution_count": 56,
   "metadata": {},
   "outputs": [
    {
     "name": "stdout",
     "output_type": "stream",
     "text": [
      "Compactness:  0.334764335938241\n"
     ]
    }
   ],
   "source": [
    "def calc_compactness(graph):\n",
    "    shortest_path_lengths = dict(nx.all_pairs_shortest_path_length(graph))\n",
    "\n",
    "    total_compactness = 0\n",
    "    total_pairs = 0\n",
    "\n",
    "    for source, lengths in shortest_path_lengths.items():\n",
    "        for target, distance in lengths.items():\n",
    "            if source != target:\n",
    "                total_compactness += 1 / distance\n",
    "                total_pairs += 1\n",
    "\n",
    "    if total_pairs == 0:\n",
    "        return 0  # Avoid division by zero\n",
    "\n",
    "    return total_compactness / total_pairs\n",
    "\n",
    "compactness = calc_compactness(G)\n",
    "print(\"Compactness: \", compactness)"
   ]
  },
  {
   "cell_type": "markdown",
   "metadata": {},
   "source": [
    "Compactness:\n",
    "The value 0.33476433593824045 is the computed compactness for the given graph. Compactness is calculated as the reciprocal of the geodesic distance between pairs of nodes, this value suggests the following interpretation:\n",
    "The compactness value lies between 0 and 1. Higher compactness values (closer to 1) indicate that nodes in the graph are more easily reachable from each other, potentially through shorter paths. Lower compactness values (closer to 0) suggest that the nodes are less easily reachable from each other, and there might be longer or more circuitous paths between them. The computed compactness value of approximately 0.355 indicates a moderate level of compactness. The reciprocal of the geodesic distances suggests that there are relatively shorter paths between pairs of nodes on average."
   ]
  },
  {
   "cell_type": "code",
   "execution_count": 57,
   "metadata": {},
   "outputs": [
    {
     "name": "stdout",
     "output_type": "stream",
     "text": [
      "Transitivity:  0.6172535975124738\n"
     ]
    }
   ],
   "source": [
    "transitivity = nx.transitivity(G)\n",
    "print(\"Transitivity: \", transitivity)"
   ]
  },
  {
   "cell_type": "markdown",
   "metadata": {},
   "source": [
    "Transitivity:\n",
    "A transitivity value of 0.657 suggests a relatively high level of clustering or transitive relationships within the graph, this value indicates that there are a substantial number of triangles or closed triads in the network. In simpler terms, if node A is connected to both node B and node C, there's a relatively high likelihood that nodes B and C are also directly connected to each other. This pattern of connectivity often reflects a clustering tendency in the network. The transitivity value ranges from 0 to 1, where 0 indicates no transitivity (no triangles or clustering), and 1 indicates maximum transitivity (all possible triangles are present). A value of 0.657 suggests that a significant portion of the graph's nodes are involved in triangles or closed triads, indicating a moderately high level of local clustering in the network."
   ]
  },
  {
   "cell_type": "code",
   "execution_count": 58,
   "metadata": {},
   "outputs": [
    {
     "data": {
      "text/html": [
       "<div>\n",
       "<style scoped>\n",
       "    .dataframe tbody tr th:only-of-type {\n",
       "        vertical-align: middle;\n",
       "    }\n",
       "\n",
       "    .dataframe tbody tr th {\n",
       "        vertical-align: top;\n",
       "    }\n",
       "\n",
       "    .dataframe thead th {\n",
       "        text-align: right;\n",
       "    }\n",
       "</style>\n",
       "<table border=\"1\" class=\"dataframe\">\n",
       "  <thead>\n",
       "    <tr style=\"text-align: right;\">\n",
       "      <th></th>\n",
       "      <th>KCore</th>\n",
       "    </tr>\n",
       "  </thead>\n",
       "  <tbody>\n",
       "    <tr>\n",
       "      <th>RENDA, GIULIA</th>\n",
       "      <td>30</td>\n",
       "    </tr>\n",
       "    <tr>\n",
       "      <th>TOMASI, FRANCESCA</th>\n",
       "      <td>30</td>\n",
       "    </tr>\n",
       "    <tr>\n",
       "      <th>BITELLI, GABRIELE</th>\n",
       "      <td>30</td>\n",
       "    </tr>\n",
       "    <tr>\n",
       "      <th>TINI, MARIA ALESSANDRA</th>\n",
       "      <td>30</td>\n",
       "    </tr>\n",
       "    <tr>\n",
       "      <th>GUALANDI, BIANCA</th>\n",
       "      <td>30</td>\n",
       "    </tr>\n",
       "    <tr>\n",
       "      <th>...</th>\n",
       "      <td>...</td>\n",
       "    </tr>\n",
       "    <tr>\n",
       "      <th>BENIGNI, FEDERICA</th>\n",
       "      <td>1</td>\n",
       "    </tr>\n",
       "    <tr>\n",
       "      <th>SOTTARA, DAVIDE</th>\n",
       "      <td>1</td>\n",
       "    </tr>\n",
       "    <tr>\n",
       "      <th>VAN HENTENRYCK, PASCAL RENÉ M.</th>\n",
       "      <td>1</td>\n",
       "    </tr>\n",
       "    <tr>\n",
       "      <th>FERRARIO, ROBERTA</th>\n",
       "      <td>1</td>\n",
       "    </tr>\n",
       "    <tr>\n",
       "      <th>DE VIVO, MANUELA</th>\n",
       "      <td>1</td>\n",
       "    </tr>\n",
       "  </tbody>\n",
       "</table>\n",
       "<p>398 rows × 1 columns</p>\n",
       "</div>"
      ],
      "text/plain": [
       "                                KCore\n",
       "RENDA, GIULIA                      30\n",
       "TOMASI, FRANCESCA                  30\n",
       "BITELLI, GABRIELE                  30\n",
       "TINI, MARIA ALESSANDRA             30\n",
       "GUALANDI, BIANCA                   30\n",
       "...                               ...\n",
       "BENIGNI, FEDERICA                   1\n",
       "SOTTARA, DAVIDE                     1\n",
       "VAN HENTENRYCK, PASCAL RENÉ M.      1\n",
       "FERRARIO, ROBERTA                   1\n",
       "DE VIVO, MANUELA                    1\n",
       "\n",
       "[398 rows x 1 columns]"
      ]
     },
     "execution_count": 58,
     "metadata": {},
     "output_type": "execute_result"
    }
   ],
   "source": [
    "core_number = nx.core_number(G)\n",
    "k_data = pd.DataFrame.from_dict(core_number,\n",
    "                                    columns=[\"KCore\"],\n",
    "                                    orient=\"index\")\n",
    "k_data.sort_values(by=[\"KCore\"], ascending=False)"
   ]
  },
  {
   "cell_type": "markdown",
   "metadata": {},
   "source": [
    "High Core Numbers:\n",
    "Nodes like \"RENDA, GIULIA,\" \"TOMASI, FRANCESCA,\" \"BITELLI, GABRIELE,\" etc., have a core number of 30. This indicates that these nodes are part of the 30-core, which means they are highly interconnected and form a central part of the network.\n",
    "\n",
    "Uniform Core Numbers:\n",
    "The fact that many nodes have the same core number (30) suggests a relatively homogeneous and densely connected region in the network. It could indicate a well-connected community or subgroup.\n",
    "\n",
    "Low Core Numbers:\n",
    "Nodes like \"BENIGNI, FEDERICA,\" \"SOTTARA, DAVIDE,\" \"VAN HENTENRYCK, PASCAL RENÉ M.,\" etc., have a core number of 1. These nodes are less connected and likely part of the periphery of the network.\n",
    "\n",
    "Network Structure:\n",
    "The presence of both high and low core numbers suggests a hierarchical or modular structure in the network. The nodes with high core numbers form a cohesive core, while nodes with low core numbers are more on the outskirts or in less-connected regions.\n",
    "\n",
    "Centrality and Importance:\n",
    "Nodes with high core numbers are likely to be more central and play a more crucial role in connecting different parts of the network. Nodes with low core numbers may have more specialized or isolated roles."
   ]
  },
  {
   "cell_type": "code",
   "execution_count": 60,
   "metadata": {},
   "outputs": [
    {
     "data": {
      "text/html": [
       "<div>\n",
       "<style scoped>\n",
       "    .dataframe tbody tr th:only-of-type {\n",
       "        vertical-align: middle;\n",
       "    }\n",
       "\n",
       "    .dataframe tbody tr th {\n",
       "        vertical-align: top;\n",
       "    }\n",
       "\n",
       "    .dataframe thead th {\n",
       "        text-align: right;\n",
       "    }\n",
       "</style>\n",
       "<table border=\"1\" class=\"dataframe\">\n",
       "  <thead>\n",
       "    <tr style=\"text-align: right;\">\n",
       "      <th></th>\n",
       "      <th>Communities</th>\n",
       "    </tr>\n",
       "  </thead>\n",
       "  <tbody>\n",
       "    <tr>\n",
       "      <th>IOVINE, GIULIO</th>\n",
       "      <td>13</td>\n",
       "    </tr>\n",
       "    <tr>\n",
       "      <th>CAPUCCINO, CARLOTTA</th>\n",
       "      <td>13</td>\n",
       "    </tr>\n",
       "    <tr>\n",
       "      <th>LILLO, FABRIZIO</th>\n",
       "      <td>12</td>\n",
       "    </tr>\n",
       "    <tr>\n",
       "      <th>TRAPIN, LUCA</th>\n",
       "      <td>12</td>\n",
       "    </tr>\n",
       "    <tr>\n",
       "      <th>PLAZZI, GIUSEPPE</th>\n",
       "      <td>11</td>\n",
       "    </tr>\n",
       "    <tr>\n",
       "      <th>...</th>\n",
       "      <td>...</td>\n",
       "    </tr>\n",
       "    <tr>\n",
       "      <th>TURRINI, ELISA</th>\n",
       "      <td>0</td>\n",
       "    </tr>\n",
       "    <tr>\n",
       "      <th>SARTOR, GIOVANNI</th>\n",
       "      <td>0</td>\n",
       "    </tr>\n",
       "    <tr>\n",
       "      <th>PODDA, EMANUELA</th>\n",
       "      <td>0</td>\n",
       "    </tr>\n",
       "    <tr>\n",
       "      <th>SACERDOTI COEN, CLAUDIO</th>\n",
       "      <td>0</td>\n",
       "    </tr>\n",
       "    <tr>\n",
       "      <th>TEIXEIRA SANTOS, CRISTIANA</th>\n",
       "      <td>0</td>\n",
       "    </tr>\n",
       "  </tbody>\n",
       "</table>\n",
       "<p>398 rows × 1 columns</p>\n",
       "</div>"
      ],
      "text/plain": [
       "                            Communities\n",
       "IOVINE, GIULIO                       13\n",
       "CAPUCCINO, CARLOTTA                  13\n",
       "LILLO, FABRIZIO                      12\n",
       "TRAPIN, LUCA                         12\n",
       "PLAZZI, GIUSEPPE                     11\n",
       "...                                 ...\n",
       "TURRINI, ELISA                        0\n",
       "SARTOR, GIOVANNI                      0\n",
       "PODDA, EMANUELA                       0\n",
       "SACERDOTI COEN, CLAUDIO               0\n",
       "TEIXEIRA SANTOS, CRISTIANA            0\n",
       "\n",
       "[398 rows x 1 columns]"
      ]
     },
     "execution_count": 60,
     "metadata": {},
     "output_type": "execute_result"
    }
   ],
   "source": [
    "communities = nx.algorithms.community.greedy_modularity_communities(G)\n",
    "community_mapping = {}\n",
    "for i, community in enumerate(communities):\n",
    "    for node in community:\n",
    "        community_mapping[node] = i\n",
    "        \n",
    "\n",
    "c_data = pd.DataFrame.from_dict(community_mapping,\n",
    "                                    columns=[\"Communities\"],\n",
    "                                    orient=\"index\")\n",
    "c_data.sort_values(by=[\"Communities\"], ascending=False)"
   ]
  },
  {
   "cell_type": "markdown",
   "metadata": {},
   "source": [
    "Community Sizes:\n",
    "For each professor, the number next to their name represents the size of the community to which they belong. For example, \"IOVINE, GIULIO\" belongs to a community of size 13. The sizes of the communities vary, ranging from 13 to 0. Larger community sizes may indicate more cohesive or tightly connected groups within your network. Professors like \"TURRINI, ELISA\" and \"SARTOR, GIOVANNI\" belong to communities with zero size. This might imply that they are not part of any identified community according to the Greedy Modularity algorithm."
   ]
  },
  {
   "cell_type": "code",
   "execution_count": 62,
   "metadata": {},
   "outputs": [
    {
     "data": {
      "text/plain": [
       "0.3298041291688724"
      ]
     },
     "execution_count": 62,
     "metadata": {},
     "output_type": "execute_result"
    }
   ],
   "source": [
    "def homophily(G):\n",
    "    num_same_ties = 0\n",
    "    num_diff_ties = 0\n",
    "    for n1, n2 in G.edges():\n",
    "        if G.nodes[n1]['affiliation'] == G.nodes[n2]['affiliation']:\n",
    "            num_same_ties += 1\n",
    "        else:\n",
    "            num_diff_ties += 1\n",
    "    return (num_same_ties / (num_same_ties + num_diff_ties))\n",
    "homophily(G)"
   ]
  },
  {
   "cell_type": "markdown",
   "metadata": {},
   "source": [
    "A homophily value of 0.3298041291688724 suggests a moderate level of homophily in your network. Homophily refers to the tendency of nodes with similar characteristics to be connected to each other in a network. The value ranges from 0 to 1, where:\n",
    "0 indicates no homophily (nodes with similar characteristics are not more likely to be connected).\n",
    "1 indicates perfect homophily (nodes with similar characteristics are always connected)."
   ]
  },
  {
   "cell_type": "code",
   "execution_count": 66,
   "metadata": {},
   "outputs": [
    {
     "name": "stdout",
     "output_type": "stream",
     "text": [
      "                           name  connections_outside_affiliation  \\\n",
      "3               PESCARIN, SOFIA                               33   \n",
      "10               IOVINE, GIULIO                                1   \n",
      "4                 GANGEMI, ALDO                               38   \n",
      "0                PERONI, SILVIO                               61   \n",
      "11            BARTOLINI, ILARIA                               37   \n",
      "6              TAMBURINI, FABIO                               28   \n",
      "7             DAQUINO, MARILENA                               32   \n",
      "2                 VITALI, FABIO                               35   \n",
      "13            PALMIRANI, MONICA                               25   \n",
      "12           SPEDICATO, GIORGIO                                2   \n",
      "1             TOMASI, FRANCESCA                               42   \n",
      "8          GIALLORENZO, SAVERIO                               10   \n",
      "9         ZUFFRANO, ANNAFELICIA                                2   \n",
      "5   ITALIA, PAOLA MARIA CARMELA                                5   \n",
      "15             FERRIANI, SIMONE                                5   \n",
      "14         BASKAKOVA, EKATERINA                                0   \n",
      "\n",
      "                                          affiliation  total_connections  \\\n",
      "3                   ARAG - AREA FINANZA E PARTECIPATE                 33   \n",
      "10            DIPARTIMENTO DI STORIA CULTURE CIVILTA'                  1   \n",
      "4           DIPARTIMENTO DI FILOSOFIA E COMUNICAZIONE                 43   \n",
      "0   DIPARTIMENTO DI FILOLOGIA CLASSICA E ITALIANIS...                 75   \n",
      "11  DIPARTIMENTO DI INFORMATICA - SCIENZA E INGEGN...                 49   \n",
      "6   DIPARTIMENTO DI FILOLOGIA CLASSICA E ITALIANIS...                 39   \n",
      "7   DIPARTIMENTO DI FILOLOGIA CLASSICA E ITALIANIS...                 48   \n",
      "2   DIPARTIMENTO DI INFORMATICA - SCIENZA E INGEGN...                 55   \n",
      "13                 DIPARTIMENTO DI SCIENZE GIURIDICHE                 40   \n",
      "12                 DIPARTIMENTO DI SCIENZE GIURIDICHE                  4   \n",
      "1   DIPARTIMENTO DI FILOLOGIA CLASSICA E ITALIANIS...                 85   \n",
      "8   DIPARTIMENTO DI INFORMATICA - SCIENZA E INGEGN...                 23   \n",
      "9   DIPARTIMENTO DI FILOLOGIA CLASSICA E ITALIANIS...                  5   \n",
      "5   DIPARTIMENTO DI FILOLOGIA CLASSICA E ITALIANIS...                 16   \n",
      "15                  DIPARTIMENTO DI SCIENZE AZIENDALI                 17   \n",
      "14                  DIPARTIMENTO DI SCIENZE AZIENDALI                  2   \n",
      "\n",
      "    ratio  \n",
      "3    1.00  \n",
      "10   1.00  \n",
      "4    0.88  \n",
      "0    0.81  \n",
      "11   0.76  \n",
      "6    0.72  \n",
      "7    0.67  \n",
      "2    0.64  \n",
      "13   0.62  \n",
      "12   0.50  \n",
      "1    0.49  \n",
      "8    0.43  \n",
      "9    0.40  \n",
      "5    0.31  \n",
      "15   0.29  \n",
      "14   0.00  \n"
     ]
    }
   ],
   "source": [
    "prof_list = ['PERONI, SILVIO', 'TOMASI, FRANCESCA', 'VITALI, FABIO', 'PESCARIN, SOFIA', 'GANGEMI, ALDO', 'ITALIA, PAOLA MARIA CARMELA', 'TAMBURINI, FABIO', 'DAQUINO, MARILENA', 'GIALLORENZO, SAVERIO', 'ZUFFRANO, ANNAFELICIA', 'IOVINE, GIULIO', 'BARTOLINI, ILARIA', 'SPEDICATO, GIORGIO', 'PALMIRANI, MONICA', 'BASKAKOVA, EKATERINA', 'FERRIANI, SIMONE']\n",
    "def affiliation_homophiliy(G, nodes):\n",
    "    data = []\n",
    "    for node in nodes:\n",
    "        affiliation = G.nodes[node]['affiliation']\n",
    "        neighbors = list(G.neighbors(node))\n",
    "        total_connections = len(neighbors)\n",
    "        connections_outside_affiliation = sum(1 for neighbor in neighbors if G.nodes[neighbor]['affiliation'] != affiliation)\n",
    "        \n",
    "        ratio = 0 if total_connections == 0 else round(connections_outside_affiliation / total_connections, 2)\n",
    "\n",
    "        data.append([node, connections_outside_affiliation, affiliation, total_connections, ratio])\n",
    "\n",
    "    df = pd.DataFrame(data, columns=['name', 'connections_outside_affiliation', 'affiliation', 'total_connections', 'ratio'])\n",
    "    return df.sort_values(by=['ratio'], ascending=False)\n",
    "print(affiliation_homophiliy(G, prof_list))\n"
   ]
  },
  {
   "cell_type": "markdown",
   "metadata": {},
   "source": [
    "Top Professors with High Homophily: \n",
    "Professors with higher homophily ratios (ratio column) have a higher proportion of connections within their own affiliation compared to the total number of connections.\n",
    "For example, \"PESCARIN, SOFIA\" has a ratio of 1.0, indicating that all connections are within the same affiliation.\n",
    "\n",
    "Diversity in Affiliation:\n",
    "Some professors, like \"BASKAKOVA, EKATERINA\" and \"SPEDICATO, GIORGIO,\" have a ratio of 0.0, suggesting that all their connections are within their own affiliation. This could indicate a strong homophily pattern within specific affiliations.\n",
    "\n",
    "Connection Patterns:\n",
    "\"PERONI, SILVIO\" has a relatively high total number of connections (75) and a ratio of 0.81. This suggests that a significant portion of the connections are outside the professor's own affiliation.\n",
    "\n",
    "Affiliation Information:\n",
    "The \"affiliation\" column provides the academic affiliation of each professor, allowing you to associate the observed homophily patterns with specific departments or units.\n",
    "\n",
    "Affiliation Homophily Metric:\n",
    "The \"ratio\" column is the homophily metric, calculated as the ratio of connections outside the professor's own affiliation to the total number of connections.\n",
    "\n",
    "Implications:\n",
    "High homophily could suggest that professors tend to collaborate more within their own departments or units, while low homophily might indicate more diverse collaboration patterns across different affiliations."
   ]
  }
 ],
 "metadata": {
  "kernelspec": {
   "display_name": "Python 3",
   "language": "python",
   "name": "python3"
  },
  "language_info": {
   "codemirror_mode": {
    "name": "ipython",
    "version": 3
   },
   "file_extension": ".py",
   "mimetype": "text/x-python",
   "name": "python",
   "nbconvert_exporter": "python",
   "pygments_lexer": "ipython3",
   "version": "3.10.8"
  }
 },
 "nbformat": 4,
 "nbformat_minor": 2
}
