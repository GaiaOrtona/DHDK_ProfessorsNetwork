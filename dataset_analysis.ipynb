{
 "cells": [
  {
   "cell_type": "code",
   "execution_count": 1,
   "metadata": {},
   "outputs": [],
   "source": [
    "import pandas as pd\n",
    "import json\n",
    "from thefuzz import fuzz, process\n",
    "from tqdm import tqdm\n",
    "import nltk\n",
    "from joblib import Parallel, delayed\n",
    "import os\n",
    "from pprint import pprint"
   ]
  },
  {
   "cell_type": "code",
   "execution_count": 12,
   "metadata": {},
   "outputs": [
    {
     "name": "stdout",
     "output_type": "stream",
     "text": [
      "[(0, ('vincenzo.lavenia', 303)),\n",
      " (1, ('giuseppe.ledda', 161)),\n",
      " (2, ('giovanni.matteucci', 153)),\n",
      " (3, ('paolo.tinti', 140)),\n",
      " (4, ('francesca.tomasi', 138)),\n",
      " (5, ('sandra.costa', 137)),\n",
      " (6, ('marco.bazzocchi', 123)),\n",
      " (7, ('iolanda.ventura', 123)),\n",
      " (8, ('fabio.tamburini', 120)),\n",
      " (9, ('marco.veglia', 119)),\n",
      " (10, ('alberto.bertoni', 114)),\n",
      " (11, ('giuseppina.brunetti', 110)),\n",
      " (12, ('loredana.chines', 110)),\n",
      " (13, ('costantino.marmo', 105)),\n",
      " (14, ('lucia.floridi2', 100)),\n",
      " (15, ('francesca.masini', 98)),\n",
      " (16, ('francesco.sberlati', 96)),\n",
      " (17, ('l.lugli', 93)),\n",
      " (18, ('federico.bertoni', 87)),\n",
      " (19, ('bruno.capaci2', 87)),\n",
      " (20, ('matteo.viale', 84)),\n",
      " (21, ('berardo.pio', 83)),\n",
      " (22, ('fabio.martelli3', 83)),\n",
      " (23, ('annapaola.soncini', 82)),\n",
      " (24, ('nicola.bonazzi3', 82)),\n",
      " (25, ('francesca.florimbii2', 78)),\n",
      " (26, ('francesco.ferretti', 77)),\n",
      " (27, ('sebastiana.nobili', 75)),\n",
      " (28, ('luigi.weber', 74)),\n",
      " (29, ('francesco.carbognin', 74)),\n",
      " (30, ('riccardo.gasperina', 72)),\n",
      " (31, ('michele.caputo', 67)),\n",
      " (32, ('gilberta.golinelli2', 65)),\n",
      " (33, ('gloria.gagliardi', 64)),\n",
      " (34, ('daniele.tripaldi', 60)),\n",
      " (35, ('filippo.milani', 58)),\n",
      " (36, ('eleonora.caramelli2', 57)),\n",
      " (37, ('chiara.coluccia', 56)),\n",
      " (38, ('rosa.pugliese', 55)),\n",
      " (39, ('michael.dallapiazza', 55)),\n",
      " (40, ('stefano.colangelo', 53)),\n",
      " (41, ('bruna.conconi', 51)),\n",
      " (42, ('maddalena.modesti3', 50)),\n",
      " (43, ('leonardo.quaquarelli', 50)),\n",
      " (44, ('sebastiano.moruzzi', 48)),\n",
      " (45, ('riccardo.tesi', 47)),\n",
      " (46, ('ferdinando.amigoni', 43)),\n",
      " (47, ('giovanni.baffetti', 43)),\n",
      " (48, ('elisa.dalchiele3', 36)),\n",
      " (49, ('stefano.malfatti', 34)),\n",
      " (50, ('andrea.villani5', 34)),\n",
      " (51, ('guido.gherardi', 33)),\n",
      " (52, ('simone.mattiola', 27)),\n",
      " (53, ('silvia.ballare', 26)),\n",
      " (54, ('luca.disabatino2', 24)),\n",
      " (55, ('elisa.scerrati', 19)),\n",
      " (56, ('annafelicia.zuffran2', 18)),\n",
      " (57, ('vanessa.pietrantonio', 18)),\n",
      " (58, ('alessandr.zanchettin', 9))]\n"
     ]
    }
   ],
   "source": [
    "with open('./data/it/it_publications.json', 'r') as f:\n",
    "    data = json.load(f)\n",
    "\n",
    "data_list = []\n",
    "\n",
    "for prof in data:\n",
    "    data_list.append((prof, len(data[prof]['Publications'])))\n",
    "\n",
    "pprint(list(enumerate(sorted(data_list, key=lambda x: x[1], reverse=True))))\n",
    "\n",
    "#pub_df = pd.DataFrame(data_list)"
   ]
  },
  {
   "cell_type": "code",
   "execution_count": 31,
   "metadata": {},
   "outputs": [
    {
     "name": "stdout",
     "output_type": "stream",
     "text": [
      "[(0, ('fabio.vitali', 184)),\n",
      " (1, ('p.torroni', 182)),\n",
      " (2, ('luciano.bononi', 165)),\n",
      " (3, ('gianluigi.zavattaro', 151)),\n",
      " (4, ('gustavo.marfia', 149)),\n",
      " (5, ('marco.difelice3', 148)),\n",
      " (6, ('ugo.dallago', 129)),\n",
      " (7, ('serena.morigi', 128)),\n",
      " (8, ('danilo.montesi', 105)),\n",
      " (9, ('maurizio.gabbrielli', 95)),\n",
      " (10, ('ilaria.bartolini', 89)),\n",
      " (11, ('valentina.presutti', 89)),\n",
      " (12, ('claudio.sacerdoticoen', 77)),\n",
      " (13, ('armando.bazzani', 73)),\n",
      " (14, ('cosimo.laneve', 72)),\n",
      " (15, ('roberto.gorrieri', 72)),\n",
      " (16, ('giulia.spaletta', 71)),\n",
      " (17, ('andrea.asperti', 70)),\n",
      " (18, ('ozalp.babaoglu', 67)),\n",
      " (19, ('renzo.davoli', 54)),\n",
      " (20, ('alessandro.amoroso', 52)),\n",
      " (21, ('zeynep.kiziltan', 46)),\n",
      " (22, ('giuseppe.lisanti', 43)),\n",
      " (23, ('lorenzo.donatiello', 41)),\n",
      " (24, ('furio.camillo', 38))]\n"
     ]
    }
   ],
   "source": [
    "\n",
    "with open('./data/cs/cs_publications.json', 'r') as f:\n",
    "    data = json.load(f)\n",
    "\n",
    "data_list = []\n",
    "\n",
    "for prof in data:\n",
    "    data_list.append((prof, len(data[prof]['Publications'])))\n",
    "\n",
    "first_25ù = list(enumerate(sorted(data_list, key=lambda x: x[1], reverse=True)))[:25]\n",
    "first_25 = list(sorted(data_list, key=lambda x: x[1], reverse=True))[:25]\n",
    "pprint(first_25ù)\n",
    "\n",
    "#pub_df = pd.DataFrame(data_list)"
   ]
  },
  {
   "cell_type": "code",
   "execution_count": 30,
   "metadata": {},
   "outputs": [
    {
     "name": "stdout",
     "output_type": "stream",
     "text": [
      "46\n",
      "43\n",
      "72\n",
      "72\n",
      "70\n",
      "184\n",
      "67\n",
      "151\n",
      "128\n",
      "129\n",
      "89\n",
      "149\n",
      "38\n",
      "182\n",
      "41\n",
      "25\n",
      "71\n",
      "105\n",
      "1\n",
      "52\n",
      "54\n",
      "89\n",
      "95\n",
      "77\n",
      "148\n",
      "73\n",
      "165\n"
     ]
    }
   ],
   "source": [
    "for prof in data.values():\n",
    "    print(len(prof['Publications']))"
   ]
  }
 ],
 "metadata": {
  "kernelspec": {
   "display_name": "Python 3",
   "language": "python",
   "name": "python3"
  },
  "language_info": {
   "codemirror_mode": {
    "name": "ipython",
    "version": 3
   },
   "file_extension": ".py",
   "mimetype": "text/x-python",
   "name": "python",
   "nbconvert_exporter": "python",
   "pygments_lexer": "ipython3",
   "version": "3.11.6"
  }
 },
 "nbformat": 4,
 "nbformat_minor": 2
}
